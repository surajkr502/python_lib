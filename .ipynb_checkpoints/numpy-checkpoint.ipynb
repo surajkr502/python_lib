{
 "cells": [
  {
   "cell_type": "code",
   "execution_count": 1,
   "id": "8d396182-f6a8-4cbd-aadb-6b27e4ed7aa4",
   "metadata": {},
   "outputs": [
    {
     "name": "stdout",
     "output_type": "stream",
     "text": [
      "Requirement already satisfied: numpy in c:\\users\\sawsu\\anaconda3\\lib\\site-packages (1.26.4)\n",
      "Note: you may need to restart the kernel to use updated packages.\n"
     ]
    }
   ],
   "source": [
    "pip install numpy"
   ]
  },
  {
   "cell_type": "markdown",
   "id": "c2c74122-e99b-44d3-851d-7c287a748c18",
   "metadata": {},
   "source": [
    "# advance pythob(libraries)"
   ]
  },
  {
   "cell_type": "markdown",
   "id": "f21a28c7-79a3-40f9-ab31-bb1ddcb1a8fc",
   "metadata": {},
   "source": [
    "# numpy"
   ]
  },
  {
   "cell_type": "code",
   "execution_count": 7,
   "id": "81d5d1c1-ef5f-406c-a539-c190543b53fd",
   "metadata": {},
   "outputs": [
    {
     "name": "stdout",
     "output_type": "stream",
     "text": [
      "enter any number: 20\n"
     ]
    },
    {
     "name": "stdout",
     "output_type": "stream",
     "text": [
      "110\n",
      "100\n",
      "10\n",
      "10\n"
     ]
    }
   ],
   "source": [
    "# wap to find the sum and count of first n even and an odd numbers... \n",
    "n=int(input(\"enter any number:\"))\n",
    "sum_e=0\n",
    "sum_o=0\n",
    "count_e=0\n",
    "count_o=0\n",
    "for i in range(1,n+1):\n",
    "    if i%2==0: \n",
    "        sum_e=sum_e+i\n",
    "        count_e=count_e+1\n",
    "    else: \n",
    "        sum_o=sum_o+i\n",
    "        count_o=count_o+1\n",
    "        # print(i)\n",
    "    # print(i)\n",
    "print(sum_e)\n",
    "print(sum_o)\n",
    "print(count_e)\n",
    "print(count_e)"
   ]
  },
  {
   "cell_type": "code",
   "execution_count": null,
   "id": "2daa2d54-be13-49f3-8ff0-4f43866220da",
   "metadata": {},
   "outputs": [],
   "source": [
    "# wap to find the sum and count of first n even and an odd numbers... \n",
    "n=int(input(\"enter any number:\"))\n",
    "sum_e=0\n",
    "sum_o=0\n",
    "count_e=0\n",
    "count_o=0\n",
    "for i in range(1,n+1):\n",
    "    if i%2==0: \n",
    "        sum_e=sum_e+i\n",
    "        count_e=count_e+1\n",
    "    else: \n",
    "        sum_o=sum_o+i\n",
    "        count_o=count_o+1\n",
    "print(sum_e)\n",
    "print(sum_o)\n",
    "print(count_e)\n",
    "print(count_e)"
   ]
  },
  {
   "cell_type": "code",
   "execution_count": null,
   "id": "011bf202-db58-43ab-92e0-9313239495a2",
   "metadata": {},
   "outputs": [],
   "source": [
    "# wap to calculate the special char ,char ,symbol and int in the given input. \n"
   ]
  },
  {
   "cell_type": "code",
   "execution_count": 2,
   "id": "dab1835c-45fe-4a27-b1bd-bd98be95c6b6",
   "metadata": {},
   "outputs": [
    {
     "name": "stdout",
     "output_type": "stream",
     "text": [
      "<class 'list'>\n",
      "<class 'numpy.ndarray'>\n"
     ]
    }
   ],
   "source": [
    "import numpy as np \n",
    "import time\n",
    "a=[1,2,3,4]\n",
    "print(type(a))\n",
    "b=np.array([1,2,3,4])\n",
    "print(type(b))"
   ]
  },
  {
   "cell_type": "code",
   "execution_count": 2,
   "id": "3789f968-7ba5-4f75-bc1f-7330c801d83e",
   "metadata": {},
   "outputs": [],
   "source": [
    "import numpy as np \n",
    "import time\n",
    "size=100000\n"
   ]
  },
  {
   "cell_type": "code",
   "execution_count": 3,
   "id": "2075bb32-94f2-44b1-b7c0-439d453726d7",
   "metadata": {},
   "outputs": [
    {
     "name": "stdout",
     "output_type": "stream",
     "text": [
      "[ 3  5  2  8  2  9 10 44 23 34  1]\n"
     ]
    },
    {
     "data": {
      "text/plain": [
       "array([ 1,  2,  2,  3,  5,  8,  9, 10, 23, 34, 44])"
      ]
     },
     "execution_count": 3,
     "metadata": {},
     "output_type": "execute_result"
    }
   ],
   "source": [
    "arr=np.array([3,5,2,8,2,9,10,44,23,34,1])\n",
    "print(arr)\n",
    "np.sort(arr)"
   ]
  },
  {
   "cell_type": "code",
   "execution_count": 5,
   "id": "d1e0b4a8-a697-4bb1-8e03-46c67e2e342b",
   "metadata": {},
   "outputs": [
    {
     "name": "stdout",
     "output_type": "stream",
     "text": [
      "int32\n"
     ]
    }
   ],
   "source": [
    "arr=np.array([3,5,2,8,2,9,10,34,1])\n",
    "np.sort(arr)\n",
    "print(arr.dtype)"
   ]
  },
  {
   "cell_type": "code",
   "execution_count": 9,
   "id": "23cd98d2-4e6f-4705-bde8-a6eb64b613cc",
   "metadata": {},
   "outputs": [
    {
     "name": "stdout",
     "output_type": "stream",
     "text": [
      "float32\n"
     ]
    }
   ],
   "source": [
    "arr=np.array([3,5,2,8,2,9,10,34,1],dtype=\"f\")\n",
    "# np.sort(arr)\n",
    "print(arr.dtype)"
   ]
  },
  {
   "cell_type": "code",
   "execution_count": 10,
   "id": "4255feac-9377-413b-9b55-cc9603f9f3b3",
   "metadata": {},
   "outputs": [
    {
     "name": "stdout",
     "output_type": "stream",
     "text": [
      "|S1\n"
     ]
    }
   ],
   "source": [
    "arr=np.array([3,5,2,8,2,9,10,34,1],dtype=\"c\")\n",
    "# np.sort(arr)\n",
    "print(arr.dtype)"
   ]
  },
  {
   "cell_type": "code",
   "execution_count": 11,
   "id": "2a020558-7b91-42ab-ba9d-afae21843907",
   "metadata": {},
   "outputs": [
    {
     "name": "stdout",
     "output_type": "stream",
     "text": [
      "float16\n"
     ]
    }
   ],
   "source": [
    "arr=np.array([3,5,2,8,2,9,10,34,1],dtype=\"f2\")\n",
    "# np.sort(arr)\n",
    "print(arr.dtype)"
   ]
  },
  {
   "cell_type": "code",
   "execution_count": 13,
   "id": "b81f7e33-f908-4186-9131-9261e059a6e2",
   "metadata": {},
   "outputs": [
    {
     "name": "stdout",
     "output_type": "stream",
     "text": [
      "float32\n"
     ]
    }
   ],
   "source": [
    "arr=np.array([3,5,2,8,2,9,10,34,1],dtype=\"f4\")\n",
    "# np.sort(arr)\n",
    "print(arr.dtype)"
   ]
  },
  {
   "cell_type": "code",
   "execution_count": 14,
   "id": "5d35038a-015a-49c2-bcea-25e460ba7d1f",
   "metadata": {},
   "outputs": [
    {
     "ename": "TypeError",
     "evalue": "data type 'f5' not understood",
     "output_type": "error",
     "traceback": [
      "\u001b[1;31m---------------------------------------------------------------------------\u001b[0m",
      "\u001b[1;31mTypeError\u001b[0m                                 Traceback (most recent call last)",
      "Cell \u001b[1;32mIn[14], line 1\u001b[0m\n\u001b[1;32m----> 1\u001b[0m arr\u001b[38;5;241m=\u001b[39mnp\u001b[38;5;241m.\u001b[39marray([\u001b[38;5;241m3\u001b[39m,\u001b[38;5;241m5\u001b[39m,\u001b[38;5;241m2\u001b[39m,\u001b[38;5;241m8\u001b[39m,\u001b[38;5;241m2\u001b[39m,\u001b[38;5;241m9\u001b[39m,\u001b[38;5;241m10\u001b[39m,\u001b[38;5;241m34\u001b[39m,\u001b[38;5;241m1\u001b[39m],dtype\u001b[38;5;241m=\u001b[39m\u001b[38;5;124m\"\u001b[39m\u001b[38;5;124mf5\u001b[39m\u001b[38;5;124m\"\u001b[39m)\n\u001b[0;32m      2\u001b[0m \u001b[38;5;66;03m# np.sort(arr)\u001b[39;00m\n\u001b[0;32m      3\u001b[0m \u001b[38;5;28mprint\u001b[39m(arr\u001b[38;5;241m.\u001b[39mdtype)\n",
      "\u001b[1;31mTypeError\u001b[0m: data type 'f5' not understood"
     ]
    }
   ],
   "source": [
    "arr=np.array([3,5,2,8,2,9,10,34,1],dtype=\"f5\")\n",
    "# np.sort(arr)\n",
    "print(arr.dtype)"
   ]
  },
  {
   "cell_type": "code",
   "execution_count": 17,
   "id": "f67244e5-967c-4309-9ac5-ac26e8a2682e",
   "metadata": {},
   "outputs": [
    {
     "name": "stdin",
     "output_type": "stream",
     "text": [
      "enter row cout: 5\n"
     ]
    },
    {
     "name": "stdout",
     "output_type": "stream",
     "text": [
      "     * \n",
      "    * * \n",
      "   * * * \n",
      "  * * * * \n",
      " * * * * * \n"
     ]
    }
   ],
   "source": [
    "n=int(input(\"enter row cout:\"))\n",
    "i=1\n",
    "while(i<=n): \n",
    "    print(' '*(n-i),'* '*i) \n",
    "    i+=1"
   ]
  },
  {
   "cell_type": "code",
   "execution_count": null,
   "id": "b4b5a87a-ca81-4a78-a21c-286cb0db3185",
   "metadata": {},
   "outputs": [],
   "source": [
    "n=int(input(\"enter row count:\"))\n",
    "for i in range(n):\n",
    "    for j in range(n-i-1): \n",
    "        print(' ',end=)"
   ]
  }
 ],
 "metadata": {
  "kernelspec": {
   "display_name": "Python [conda env:base] *",
   "language": "python",
   "name": "conda-base-py"
  },
  "language_info": {
   "codemirror_mode": {
    "name": "ipython",
    "version": 3
   },
   "file_extension": ".py",
   "mimetype": "text/x-python",
   "name": "python",
   "nbconvert_exporter": "python",
   "pygments_lexer": "ipython3",
   "version": "3.12.7"
  }
 },
 "nbformat": 4,
 "nbformat_minor": 5
}
