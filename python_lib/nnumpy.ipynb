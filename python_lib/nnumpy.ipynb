{
 "cells": [
  {
   "cell_type": "code",
   "execution_count": 1,
   "id": "8d396182-f6a8-4cbd-aadb-6b27e4ed7aa4",
   "metadata": {},
   "outputs": [
    {
     "name": "stdout",
     "output_type": "stream",
     "text": [
      "Requirement already satisfied: numpy in c:\\users\\sawsu\\anaconda3\\lib\\site-packages (1.26.4)\n",
      "Note: you may need to restart the kernel to use updated packages.\n"
     ]
    }
   ],
   "source": [
    "pip install numpy"
   ]
  },
  {
   "cell_type": "markdown",
   "id": "c2c74122-e99b-44d3-851d-7c287a748c18",
   "metadata": {},
   "source": [
    "# advance pythob(libraries)"
   ]
  },
  {
   "cell_type": "markdown",
   "id": "f21a28c7-79a3-40f9-ab31-bb1ddcb1a8fc",
   "metadata": {},
   "source": [
    "# numpy"
   ]
  },
  {
   "cell_type": "code",
   "execution_count": 7,
   "id": "81d5d1c1-ef5f-406c-a539-c190543b53fd",
   "metadata": {},
   "outputs": [
    {
     "name": "stdout",
     "output_type": "stream",
     "text": [
      "enter any number: 20\n"
     ]
    },
    {
     "name": "stdout",
     "output_type": "stream",
     "text": [
      "110\n",
      "100\n",
      "10\n",
      "10\n"
     ]
    }
   ],
   "source": [
    "# wap to find the sum and count of first n even and an odd numbers. \n",
    "n=int(input(\"enter any number:\"))\n",
    "sum_e=0\n",
    "sum_o=0\n",
    "count_e=0\n",
    "count_o=0\n",
    "for i in range(1,n+1):\n",
    "    if i%2==0: \n",
    "        sum_e=sum_e+i\n",
    "        count_e=count_e+1\n",
    "    else: \n",
    "        sum_o=sum_o+i\n",
    "        count_o=count_o+1\n",
    "        # print(i)\n",
    "    # print(i)\n",
    "print(sum_e)\n",
    "print(sum_o)\n",
    "print(count_e)\n",
    "print(count_e)\n",
    "    "
   ]
  },
  {
   "cell_type": "code",
   "execution_count": null,
   "id": "011bf202-db58-43ab-92e0-9313239495a2",
   "metadata": {},
   "outputs": [],
   "source": [
    "# wap to calculate the special char ,char ,symbol and int in the given input. \n"
   ]
  }
 ],
 "metadata": {
  "kernelspec": {
   "display_name": "Python [conda env:base] *",
   "language": "python",
   "name": "conda-base-py"
  },
  "language_info": {
   "codemirror_mode": {
    "name": "ipython",
    "version": 3
   },
   "file_extension": ".py",
   "mimetype": "text/x-python",
   "name": "python",
   "nbconvert_exporter": "python",
   "pygments_lexer": "ipython3",
   "version": "3.12.7"
  }
 },
 "nbformat": 4,
 "nbformat_minor": 5
}
