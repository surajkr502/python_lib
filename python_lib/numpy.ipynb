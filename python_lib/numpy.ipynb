{
 "cells": [
  {
   "cell_type": "code",
   "execution_count": 1,
   "id": "8d396182-f6a8-4cbd-aadb-6b27e4ed7aa4",
   "metadata": {},
   "outputs": [
    {
     "name": "stdout",
     "output_type": "stream",
     "text": [
      "Requirement already satisfied: numpy in c:\\users\\sawsu\\anaconda3\\lib\\site-packages (1.26.4)\n",
      "Note: you may need to restart the kernel to use updated packages.\n"
     ]
    }
   ],
   "source": [
    "pip install numpy"
   ]
  },
  {
   "cell_type": "markdown",
   "id": "c2c74122-e99b-44d3-851d-7c287a748c18",
   "metadata": {},
   "source": [
    "# advance pythob(libraries)"
   ]
  },
  {
   "cell_type": "markdown",
   "id": "f21a28c7-79a3-40f9-ab31-bb1ddcb1a8fc",
   "metadata": {},
   "source": [
    "# numpy"
   ]
  },
  {
   "cell_type": "code",
   "execution_count": 1,
   "id": "81d5d1c1-ef5f-406c-a539-c190543b53fd",
   "metadata": {},
   "outputs": [
    {
     "name": "stdin",
     "output_type": "stream",
     "text": [
      "enter any number: 78\n"
     ]
    },
    {
     "name": "stdout",
     "output_type": "stream",
     "text": [
      "1560\n",
      "1521\n",
      "39\n",
      "39\n"
     ]
    }
   ],
   "source": [
    "# wap to find the sum and count of first n even and an odd numbers... \n",
    "n=int(input(\"enter any number:\"))\n",
    "sum_e=0\n",
    "sum_o=0\n",
    "count_e=0\n",
    "count_o=0\n",
    "for i in range(1,n+1):\n",
    "    if i%2==0: \n",
    "        sum_e=sum_e+i\n",
    "        count_e=count_e+1\n",
    "    else: \n",
    "        sum_o=sum_o+i\n",
    "        count_o=count_o+1\n",
    "        # print(i)\n",
    "    # print(i)\n",
    "print(sum_e)\n",
    "print(sum_o)\n",
    "print(count_e)\n",
    "print(count_e)"
   ]
  },
  {
   "cell_type": "code",
   "execution_count": null,
   "id": "2daa2d54-be13-49f3-8ff0-4f43866220da",
   "metadata": {},
   "outputs": [],
   "source": [
    "# wap to find the sum and count of first n even and an odd numbers... \n",
    "n=int(input(\"enter any number:\"))\n",
    "sum_e=0\n",
    "sum_o=0\n",
    "count_e=0\n",
    "count_o=0\n",
    "for i in range(1,n+1):\n",
    "    if i%2==0: \n",
    "        sum_e=sum_e+i\n",
    "        count_e=count_e+1\n",
    "    else: \n",
    "        sum_o=sum_o+i\n",
    "        count_o=count_o+1\n",
    "print(sum_e)\n",
    "print(sum_o)\n",
    "print(count_e)\n",
    "print(count_e)"
   ]
  },
  {
   "cell_type": "code",
   "execution_count": 1,
   "id": "011bf202-db58-43ab-92e0-9313239495a2",
   "metadata": {},
   "outputs": [
    {
     "name": "stdin",
     "output_type": "stream",
     "text": [
      "Enter a string:   \n"
     ]
    },
    {
     "name": "stdout",
     "output_type": "stream",
     "text": [
      "Letters: 0\n",
      "Digits: 0\n",
      "Special Characters / Symbols: 1\n"
     ]
    }
   ],
   "source": [
    "# wap to calculate the special char ,char ,symbol and int in the given input. \n",
    "# Program to count characters, digits, and special characters in a string\n",
    "\n",
    "text = input(\"Enter a string: \")\n",
    "\n",
    "letters = 0\n",
    "digits = 0\n",
    "special_chars = 0\n",
    "\n",
    "for ch in text:\n",
    "    if ch.isalpha():        \n",
    "        letters += 1\n",
    "    elif ch.isdigit():      \n",
    "        digits += 1\n",
    "    else:                   \n",
    "        special_chars += 1\n",
    "\n",
    "print(\"Letters:\", letters)\n",
    "print(\"Digits:\", digits)\n",
    "print(\"Special Characters / Symbols:\", special_chars)\n"
   ]
  },
  {
   "cell_type": "code",
   "execution_count": null,
   "id": "35766317-7d8c-42dd-a48a-81425b53c3c8",
   "metadata": {},
   "outputs": [],
   "source": []
  },
  {
   "cell_type": "code",
   "execution_count": 2,
   "id": "dab1835c-45fe-4a27-b1bd-bd98be95c6b6",
   "metadata": {},
   "outputs": [
    {
     "name": "stdout",
     "output_type": "stream",
     "text": [
      "<class 'list'>\n",
      "<class 'numpy.ndarray'>\n"
     ]
    }
   ],
   "source": [
    "import numpy as np \n",
    "import time\n",
    "a=[1,2,3,4]\n",
    "print(type(a))\n",
    "b=np.array([1,2,3,4])\n",
    "print(type(b))"
   ]
  },
  {
   "cell_type": "code",
   "execution_count": 2,
   "id": "3789f968-7ba5-4f75-bc1f-7330c801d83e",
   "metadata": {},
   "outputs": [],
   "source": [
    "import numpy as np \n",
    "import time\n",
    "size=100000\n"
   ]
  },
  {
   "cell_type": "code",
   "execution_count": 3,
   "id": "2075bb32-94f2-44b1-b7c0-439d453726d7",
   "metadata": {},
   "outputs": [
    {
     "name": "stdout",
     "output_type": "stream",
     "text": [
      "[ 3  5  2  8  2  9 10 44 23 34  1]\n"
     ]
    },
    {
     "data": {
      "text/plain": [
       "array([ 1,  2,  2,  3,  5,  8,  9, 10, 23, 34, 44])"
      ]
     },
     "execution_count": 3,
     "metadata": {},
     "output_type": "execute_result"
    }
   ],
   "source": [
    "arr=np.array([3,5,2,8,2,9,10,44,23,34,1])\n",
    "print(arr)\n",
    "np.sort(arr)"
   ]
  },
  {
   "cell_type": "code",
   "execution_count": 5,
   "id": "d1e0b4a8-a697-4bb1-8e03-46c67e2e342b",
   "metadata": {},
   "outputs": [
    {
     "name": "stdout",
     "output_type": "stream",
     "text": [
      "int32\n"
     ]
    }
   ],
   "source": [
    "arr=np.array([3,5,2,8,2,9,10,34,1])\n",
    "np.sort(arr)\n",
    "print(arr.dtype)"
   ]
  },
  {
   "cell_type": "code",
   "execution_count": 9,
   "id": "23cd98d2-4e6f-4705-bde8-a6eb64b613cc",
   "metadata": {},
   "outputs": [
    {
     "name": "stdout",
     "output_type": "stream",
     "text": [
      "float32\n"
     ]
    }
   ],
   "source": [
    "arr=np.array([3,5,2,8,2,9,10,34,1],dtype=\"f\")\n",
    "# np.sort(arr)\n",
    "print(arr.dtype)"
   ]
  },
  {
   "cell_type": "code",
   "execution_count": 10,
   "id": "4255feac-9377-413b-9b55-cc9603f9f3b3",
   "metadata": {},
   "outputs": [
    {
     "name": "stdout",
     "output_type": "stream",
     "text": [
      "|S1\n"
     ]
    }
   ],
   "source": [
    "arr=np.array([3,5,2,8,2,9,10,34,1],dtype=\"c\")\n",
    "# np.sort(arr)\n",
    "print(arr.dtype)"
   ]
  },
  {
   "cell_type": "code",
   "execution_count": 11,
   "id": "2a020558-7b91-42ab-ba9d-afae21843907",
   "metadata": {},
   "outputs": [
    {
     "name": "stdout",
     "output_type": "stream",
     "text": [
      "float16\n"
     ]
    }
   ],
   "source": [
    "arr=np.array([3,5,2,8,2,9,10,34,1],dtype=\"f2\")\n",
    "# np.sort(arr)\n",
    "print(arr.dtype)"
   ]
  },
  {
   "cell_type": "code",
   "execution_count": 13,
   "id": "b81f7e33-f908-4186-9131-9261e059a6e2",
   "metadata": {},
   "outputs": [
    {
     "name": "stdout",
     "output_type": "stream",
     "text": [
      "float32\n"
     ]
    }
   ],
   "source": [
    "arr=np.array([3,5,2,8,2,9,10,34,1],dtype=\"f4\")\n",
    "# np.sort(arr)\n",
    "print(arr.dtype)"
   ]
  },
  {
   "cell_type": "code",
   "execution_count": 14,
   "id": "5d35038a-015a-49c2-bcea-25e460ba7d1f",
   "metadata": {},
   "outputs": [
    {
     "ename": "TypeError",
     "evalue": "data type 'f5' not understood",
     "output_type": "error",
     "traceback": [
      "\u001b[1;31m---------------------------------------------------------------------------\u001b[0m",
      "\u001b[1;31mTypeError\u001b[0m                                 Traceback (most recent call last)",
      "Cell \u001b[1;32mIn[14], line 1\u001b[0m\n\u001b[1;32m----> 1\u001b[0m arr\u001b[38;5;241m=\u001b[39mnp\u001b[38;5;241m.\u001b[39marray([\u001b[38;5;241m3\u001b[39m,\u001b[38;5;241m5\u001b[39m,\u001b[38;5;241m2\u001b[39m,\u001b[38;5;241m8\u001b[39m,\u001b[38;5;241m2\u001b[39m,\u001b[38;5;241m9\u001b[39m,\u001b[38;5;241m10\u001b[39m,\u001b[38;5;241m34\u001b[39m,\u001b[38;5;241m1\u001b[39m],dtype\u001b[38;5;241m=\u001b[39m\u001b[38;5;124m\"\u001b[39m\u001b[38;5;124mf5\u001b[39m\u001b[38;5;124m\"\u001b[39m)\n\u001b[0;32m      2\u001b[0m \u001b[38;5;66;03m# np.sort(arr)\u001b[39;00m\n\u001b[0;32m      3\u001b[0m \u001b[38;5;28mprint\u001b[39m(arr\u001b[38;5;241m.\u001b[39mdtype)\n",
      "\u001b[1;31mTypeError\u001b[0m: data type 'f5' not understood"
     ]
    }
   ],
   "source": [
    "arr=np.array([3,5,2,8,2,9,10,34,1],dtype=\"f5\")\n",
    "# np.sort(arr)\n",
    "print(arr.dtype)"
   ]
  },
  {
   "cell_type": "code",
   "execution_count": 17,
   "id": "f67244e5-967c-4309-9ac5-ac26e8a2682e",
   "metadata": {},
   "outputs": [
    {
     "name": "stdout",
     "output_type": "stream",
     "text": [
      "enter row cout: 5\n"
     ]
    },
    {
     "name": "stdout",
     "output_type": "stream",
     "text": [
      "     * \n",
      "    * * \n",
      "   * * * \n",
      "  * * * * \n",
      " * * * * * \n"
     ]
    }
   ],
   "source": [
    "n=int(input(\"enter row cout:\"))\n",
    "i=1\n",
    "while(i<=n): \n",
    "    print(' '*(n-i),'* '*i) \n",
    "    i+=1"
   ]
  },
  {
   "cell_type": "code",
   "execution_count": null,
   "id": "b4b5a87a-ca81-4a78-a21c-286cb0db3185",
   "metadata": {},
   "outputs": [],
   "source": [
    "n=int(input(\"enter row count:\"))\n",
    "for i in range(n):\n",
    "    for j in range(n-i-1): \n",
    "        print(' ',end=)"
   ]
  },
  {
   "cell_type": "code",
   "execution_count": 10,
   "id": "3c1597ec-dea3-4996-8087-0e5e755f3ce8",
   "metadata": {},
   "outputs": [
    {
     "data": {
      "text/plain": [
       "1"
      ]
     },
     "execution_count": 10,
     "metadata": {},
     "output_type": "execute_result"
    }
   ],
   "source": [
    "import numpy as np\n",
    "np.random.randint(0,4) "
   ]
  },
  {
   "cell_type": "code",
   "execution_count": 20,
   "id": "89b675b2-3fc4-4f2d-b6d9-2f4d35538f08",
   "metadata": {},
   "outputs": [
    {
     "name": "stdout",
     "output_type": "stream",
     "text": [
      "[3]\n"
     ]
    }
   ],
   "source": [
    "# np.random.randint(0,10)\n",
    "x=[np.random.randint(0,10)]\n",
    "print(x)\n",
    "\n",
    "\n"
   ]
  },
  {
   "cell_type": "code",
   "execution_count": 2,
   "id": "0ddc8580-4c55-4161-8161-97e4cae64be0",
   "metadata": {},
   "outputs": [
    {
     "name": "stdin",
     "output_type": "stream",
     "text": [
      "enter no.: 1\n",
      "enter no.: 2\n",
      "enter no.: 3\n",
      "enter no.: 4\n"
     ]
    },
    {
     "name": "stdout",
     "output_type": "stream",
     "text": [
      "[1 2 3 4]\n",
      "<class 'numpy.ndarray'>\n"
     ]
    }
   ],
   "source": [
    "import numpy as np\n",
    "l=[] \n",
    "for i in range(1,5):\n",
    "    x=int(input(\"enter no.:\"))\n",
    "    l.append(x)\n",
    "print(np.array(l))\n",
    "d=np.array(l)\n",
    "print(type(d))"
   ]
  },
  {
   "cell_type": "code",
   "execution_count": 3,
   "id": "b05c9d33-53b7-4fb2-97ae-b39178e14ec5",
   "metadata": {},
   "outputs": [],
   "source": [
    "arr1=np.eye(3)\n",
    "\n"
   ]
  },
  {
   "cell_type": "code",
   "execution_count": 3,
   "id": "79baf147-cc2e-4834-8cd0-38cf2d090f6e",
   "metadata": {},
   "outputs": [
    {
     "name": "stdout",
     "output_type": "stream",
     "text": [
      "[1 2 3 4 5]\n",
      "<class 'numpy.ndarray'>\n",
      "[10  2  3  4  5]\n"
     ]
    }
   ],
   "source": [
    "import numpy as np\n",
    "y=np.array([1,2,3,4,5])\n",
    "print(y)\n",
    "print(type(y))\n",
    "y[0]=10\n",
    "print(y)"
   ]
  },
  {
   "cell_type": "code",
   "execution_count": 1,
   "id": "e397e69d-11ef-4938-b8bd-1706f504574e",
   "metadata": {},
   "outputs": [
    {
     "name": "stdout",
     "output_type": "stream",
     "text": [
      "1.26.4\n"
     ]
    }
   ],
   "source": [
    "import numpy as np\n",
    "print(np.__version__)\n"
   ]
  },
  {
   "cell_type": "code",
   "execution_count": 4,
   "id": "e1afb381-6037-4b3e-b638-9cc8824341a4",
   "metadata": {},
   "outputs": [
    {
     "name": "stdout",
     "output_type": "stream",
     "text": [
      "Requirement already satisfied: numpy in c:\\users\\sawsu\\anaconda3\\lib\\site-packages (2.3.1)\n",
      "Note: you may need to restart the kernel to use updated packages.\n"
     ]
    }
   ],
   "source": [
    "%pip install --upgrade numpy\n",
    "\n",
    "\n"
   ]
  },
  {
   "cell_type": "code",
   "execution_count": 3,
   "id": "5842c698-0472-4200-9e6d-4d85bbb5a685",
   "metadata": {},
   "outputs": [
    {
     "name": "stdout",
     "output_type": "stream",
     "text": [
      "1.26.4\n"
     ]
    }
   ],
   "source": [
    "import numpy as np\n",
    "print(np.__version__)\n"
   ]
  },
  {
   "cell_type": "code",
   "execution_count": 1,
   "id": "f22ba6ea-4b99-46e1-827c-e27f94999f1b",
   "metadata": {},
   "outputs": [
    {
     "name": "stdout",
     "output_type": "stream",
     "text": [
      "2.3.1\n"
     ]
    }
   ],
   "source": [
    "import numpy as np\n",
    "print(np.__version__)\n"
   ]
  },
  {
   "cell_type": "code",
   "execution_count": 1,
   "id": "430f3171-6c6f-4a19-b7a8-2258227af3d9",
   "metadata": {},
   "outputs": [
    {
     "name": "stdout",
     "output_type": "stream",
     "text": [
      "Requirement already satisfied: pandas in c:\\users\\sawsu\\anaconda3\\lib\\site-packages (2.2.2)\n",
      "Collecting pandas\n",
      "  Downloading pandas-2.3.1-cp312-cp312-win_amd64.whl.metadata (19 kB)\n",
      "Requirement already satisfied: numpy>=1.26.0 in c:\\users\\sawsu\\anaconda3\\lib\\site-packages (from pandas) (2.3.1)\n",
      "Requirement already satisfied: python-dateutil>=2.8.2 in c:\\users\\sawsu\\anaconda3\\lib\\site-packages (from pandas) (2.9.0.post0)\n",
      "Requirement already satisfied: pytz>=2020.1 in c:\\users\\sawsu\\anaconda3\\lib\\site-packages (from pandas) (2024.1)\n",
      "Requirement already satisfied: tzdata>=2022.7 in c:\\users\\sawsu\\anaconda3\\lib\\site-packages (from pandas) (2023.3)\n",
      "Requirement already satisfied: six>=1.5 in c:\\users\\sawsu\\anaconda3\\lib\\site-packages (from python-dateutil>=2.8.2->pandas) (1.16.0)\n",
      "Downloading pandas-2.3.1-cp312-cp312-win_amd64.whl (11.0 MB)\n",
      "   ---------------------------------------- 0.0/11.0 MB ? eta -:--:--\n",
      "   -- ------------------------------------- 0.8/11.0 MB 8.3 MB/s eta 0:00:02\n",
      "   -------- ------------------------------- 2.4/11.0 MB 7.4 MB/s eta 0:00:02\n",
      "   ------------- -------------------------- 3.7/11.0 MB 7.8 MB/s eta 0:00:01\n",
      "   -------------- ------------------------- 3.9/11.0 MB 6.9 MB/s eta 0:00:02\n",
      "   ---------------- ----------------------- 4.5/11.0 MB 5.2 MB/s eta 0:00:02\n",
      "   ---------------- ----------------------- 4.5/11.0 MB 5.2 MB/s eta 0:00:02\n",
      "   -------------------- ------------------- 5.8/11.0 MB 4.2 MB/s eta 0:00:02\n",
      "   ------------------------- -------------- 7.1/11.0 MB 4.5 MB/s eta 0:00:01\n",
      "   -------------------------------- ------- 8.9/11.0 MB 5.0 MB/s eta 0:00:01\n",
      "   -------------------------------------- - 10.5/11.0 MB 5.4 MB/s eta 0:00:01\n",
      "   ---------------------------------------- 11.0/11.0 MB 5.4 MB/s eta 0:00:00\n",
      "Installing collected packages: pandas\n",
      "  Attempting uninstall: pandas\n",
      "    Found existing installation: pandas 2.2.2\n",
      "    Uninstalling pandas-2.2.2:\n",
      "      Successfully uninstalled pandas-2.2.2\n",
      "Successfully installed pandas-2.3.1\n",
      "Note: you may need to restart the kernel to use updated packages.\n"
     ]
    }
   ],
   "source": [
    "pip install --upgrade pandas\n"
   ]
  },
  {
   "cell_type": "code",
   "execution_count": 2,
   "id": "8161badf-9459-48a1-a989-10f7142717be",
   "metadata": {},
   "outputs": [
    {
     "name": "stdout",
     "output_type": "stream",
     "text": [
      "2.3.1\n"
     ]
    }
   ],
   "source": [
    "import pandas as pd\n",
    "print(pd.__version__)\n"
   ]
  }
 ],
 "metadata": {
  "kernelspec": {
   "display_name": "Python [conda env:base] *",
   "language": "python",
   "name": "conda-base-py"
  },
  "language_info": {
   "codemirror_mode": {
    "name": "ipython",
    "version": 3
   },
   "file_extension": ".py",
   "mimetype": "text/x-python",
   "name": "python",
   "nbconvert_exporter": "python",
   "pygments_lexer": "ipython3",
   "version": "3.12.7"
  }
 },
 "nbformat": 4,
 "nbformat_minor": 5
}
