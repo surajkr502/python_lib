{
 "cells": [
  {
   "cell_type": "code",
   "execution_count": 2,
   "id": "3b6b26b3-716c-4765-a945-fe93ea815397",
   "metadata": {},
   "outputs": [],
   "source": [
    "import numpy as np\n",
    "import pandas as pd \n",
    "import seaborn as sns \n",
    "import matplotlib.pyplot as plt "
   ]
  },
  {
   "cell_type": "code",
   "execution_count": null,
   "id": "177b1fe3-c460-4173-9fd7-ade3337a5ad6",
   "metadata": {},
   "outputs": [],
   "source": [
    "pd.read_csv(\"D:/Ad_py_lib.csv\\pandas_and_numpy\")"
   ]
  },
  {
   "cell_type": "code",
   "execution_count": null,
   "id": "8cd26e4b-8c8b-4465-bcaf-4c51b62c1f53",
   "metadata": {},
   "outputs": [],
   "source": []
  },
  {
   "cell_type": "code",
   "execution_count": null,
   "id": "dfa8f339-bea1-4b0a-bfb1-afc137d35e1f",
   "metadata": {},
   "outputs": [],
   "source": []
  },
  {
   "cell_type": "code",
   "execution_count": null,
   "id": "c8d37105-05dc-4820-bbc7-f88f2f0c9217",
   "metadata": {},
   "outputs": [],
   "source": []
  }
 ],
 "metadata": {
  "kernelspec": {
   "display_name": "Python 3 (ipykernel)",
   "language": "python",
   "name": "python3"
  },
  "language_info": {
   "codemirror_mode": {
    "name": "ipython",
    "version": 3
   },
   "file_extension": ".py",
   "mimetype": "text/x-python",
   "name": "python",
   "nbconvert_exporter": "python",
   "pygments_lexer": "ipython3",
   "version": "3.13.5"
  }
 },
 "nbformat": 4,
 "nbformat_minor": 5
}
