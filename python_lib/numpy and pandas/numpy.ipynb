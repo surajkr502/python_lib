{
 "cells": [
  {
   "cell_type": "code",
   "execution_count": 3,
   "id": "8d396182-f6a8-4cbd-aadb-6b27e4ed7aa4",
   "metadata": {},
   "outputs": [
    {
     "name": "stdout",
     "output_type": "stream",
     "text": [
      "Requirement already satisfied: numpy in c:\\users\\sawsu\\anaconda3\\lib\\site-packages (2.3.1)\n",
      "Note: you may need to restart the kernel to use updated packages.\n"
     ]
    }
   ],
   "source": [
    "pip install numpy"
   ]
  },
  {
   "cell_type": "markdown",
   "id": "c2c74122-e99b-44d3-851d-7c287a748c18",
   "metadata": {},
   "source": [
    "# advance pythob(libraries)"
   ]
  },
  {
   "cell_type": "markdown",
   "id": "f21a28c7-79a3-40f9-ab31-bb1ddcb1a8fc",
   "metadata": {},
   "source": [
    "# numpy"
   ]
  },
  {
   "cell_type": "code",
   "execution_count": 1,
   "id": "81d5d1c1-ef5f-406c-a539-c190543b53fd",
   "metadata": {},
   "outputs": [
    {
     "name": "stdin",
     "output_type": "stream",
     "text": [
      "enter any number: 78\n"
     ]
    },
    {
     "name": "stdout",
     "output_type": "stream",
     "text": [
      "1560\n",
      "1521\n",
      "39\n",
      "39\n"
     ]
    }
   ],
   "source": [
    "# wap to find the sum and count of first n even and an odd numbers... \n",
    "n=int(input(\"enter any number:\"))\n",
    "sum_e=0\n",
    "sum_o=0\n",
    "count_e=0\n",
    "count_o=0\n",
    "for i in range(1,n+1):\n",
    "    if i%2==0: \n",
    "        sum_e=sum_e+i\n",
    "        count_e=count_e+1\n",
    "    else: \n",
    "        sum_o=sum_o+i\n",
    "        count_o=count_o+1\n",
    "        # print(i)\n",
    "    # print(i)\n",
    "print(sum_e)\n",
    "print(sum_o)\n",
    "print(count_e)\n",
    "print(count_e)"
   ]
  },
  {
   "cell_type": "code",
   "execution_count": null,
   "id": "2daa2d54-be13-49f3-8ff0-4f43866220da",
   "metadata": {},
   "outputs": [],
   "source": [
    "# wap to find the sum and count of first n even and an odd numbers... \n",
    "n=int(input(\"enter any number:\"))\n",
    "sum_e=0\n",
    "sum_o=0\n",
    "count_e=0\n",
    "count_o=0\n",
    "for i in range(1,n+1):\n",
    "    if i%2==0: \n",
    "        sum_e=sum_e+i\n",
    "        count_e=count_e+1\n",
    "    else: \n",
    "        sum_o=sum_o+i\n",
    "        count_o=count_o+1\n",
    "print(sum_e)\n",
    "print(sum_o)\n",
    "print(count_e)\n",
    "print(count_e)"
   ]
  },
  {
   "cell_type": "code",
   "execution_count": 1,
   "id": "011bf202-db58-43ab-92e0-9313239495a2",
   "metadata": {},
   "outputs": [
    {
     "name": "stdin",
     "output_type": "stream",
     "text": [
      "Enter a string:   \n"
     ]
    },
    {
     "name": "stdout",
     "output_type": "stream",
     "text": [
      "Letters: 0\n",
      "Digits: 0\n",
      "Special Characters / Symbols: 1\n"
     ]
    }
   ],
   "source": [
    "# wap to calculate the special char ,char ,symbol and int in the given input. \n",
    "# Program to count characters, digits, and special characters in a string\n",
    "\n",
    "text = input(\"Enter a string: \")\n",
    "\n",
    "letters = 0\n",
    "digits = 0\n",
    "special_chars = 0\n",
    "\n",
    "for ch in text:\n",
    "    if ch.isalpha():        \n",
    "        letters += 1\n",
    "    elif ch.isdigit():      \n",
    "        digits += 1\n",
    "    else:                   \n",
    "        special_chars += 1\n",
    "\n",
    "print(\"Letters:\", letters)\n",
    "print(\"Digits:\", digits)\n",
    "print(\"Special Characters / Symbols:\", special_chars)\n"
   ]
  },
  {
   "cell_type": "code",
   "execution_count": null,
   "id": "35766317-7d8c-42dd-a48a-81425b53c3c8",
   "metadata": {},
   "outputs": [],
   "source": []
  },
  {
   "cell_type": "code",
   "execution_count": 2,
   "id": "dab1835c-45fe-4a27-b1bd-bd98be95c6b6",
   "metadata": {},
   "outputs": [
    {
     "name": "stdout",
     "output_type": "stream",
     "text": [
      "<class 'list'>\n",
      "<class 'numpy.ndarray'>\n"
     ]
    }
   ],
   "source": [
    "import numpy as np \n",
    "import time\n",
    "a=[1,2,3,4]\n",
    "print(type(a))\n",
    "b=np.array([1,2,3,4])\n",
    "print(type(b))"
   ]
  },
  {
   "cell_type": "code",
   "execution_count": 2,
   "id": "3789f968-7ba5-4f75-bc1f-7330c801d83e",
   "metadata": {},
   "outputs": [],
   "source": [
    "import numpy as np \n",
    "import time\n",
    "size=100000\n"
   ]
  },
  {
   "cell_type": "code",
   "execution_count": 3,
   "id": "2075bb32-94f2-44b1-b7c0-439d453726d7",
   "metadata": {},
   "outputs": [
    {
     "name": "stdout",
     "output_type": "stream",
     "text": [
      "[ 3  5  2  8  2  9 10 44 23 34  1]\n"
     ]
    },
    {
     "data": {
      "text/plain": [
       "array([ 1,  2,  2,  3,  5,  8,  9, 10, 23, 34, 44])"
      ]
     },
     "execution_count": 3,
     "metadata": {},
     "output_type": "execute_result"
    }
   ],
   "source": [
    "arr=np.array([3,5,2,8,2,9,10,44,23,34,1])\n",
    "print(arr)\n",
    "np.sort(arr)"
   ]
  },
  {
   "cell_type": "code",
   "execution_count": 5,
   "id": "d1e0b4a8-a697-4bb1-8e03-46c67e2e342b",
   "metadata": {},
   "outputs": [
    {
     "name": "stdout",
     "output_type": "stream",
     "text": [
      "int32\n"
     ]
    }
   ],
   "source": [
    "arr=np.array([3,5,2,8,2,9,10,34,1])\n",
    "np.sort(arr)\n",
    "print(arr.dtype)"
   ]
  },
  {
   "cell_type": "code",
   "execution_count": 9,
   "id": "23cd98d2-4e6f-4705-bde8-a6eb64b613cc",
   "metadata": {},
   "outputs": [
    {
     "name": "stdout",
     "output_type": "stream",
     "text": [
      "float32\n"
     ]
    }
   ],
   "source": [
    "arr=np.array([3,5,2,8,2,9,10,34,1],dtype=\"f\")\n",
    "# np.sort(arr)\n",
    "print(arr.dtype)"
   ]
  },
  {
   "cell_type": "code",
   "execution_count": 10,
   "id": "4255feac-9377-413b-9b55-cc9603f9f3b3",
   "metadata": {},
   "outputs": [
    {
     "name": "stdout",
     "output_type": "stream",
     "text": [
      "|S1\n"
     ]
    }
   ],
   "source": [
    "arr=np.array([3,5,2,8,2,9,10,34,1],dtype=\"c\")\n",
    "# np.sort(arr)\n",
    "print(arr.dtype)"
   ]
  },
  {
   "cell_type": "code",
   "execution_count": 11,
   "id": "2a020558-7b91-42ab-ba9d-afae21843907",
   "metadata": {},
   "outputs": [
    {
     "name": "stdout",
     "output_type": "stream",
     "text": [
      "float16\n"
     ]
    }
   ],
   "source": [
    "arr=np.array([3,5,2,8,2,9,10,34,1],dtype=\"f2\")\n",
    "# np.sort(arr)\n",
    "print(arr.dtype)"
   ]
  },
  {
   "cell_type": "code",
   "execution_count": 13,
   "id": "b81f7e33-f908-4186-9131-9261e059a6e2",
   "metadata": {},
   "outputs": [
    {
     "name": "stdout",
     "output_type": "stream",
     "text": [
      "float32\n"
     ]
    }
   ],
   "source": [
    "arr=np.array([3,5,2,8,2,9,10,34,1],dtype=\"f4\")\n",
    "# np.sort(arr)\n",
    "print(arr.dtype)"
   ]
  },
  {
   "cell_type": "code",
   "execution_count": 2,
   "id": "5d35038a-015a-49c2-bcea-25e460ba7d1f",
   "metadata": {},
   "outputs": [
    {
     "ename": "TypeError",
     "evalue": "data type 'f5' not understood",
     "output_type": "error",
     "traceback": [
      "\u001b[1;31m---------------------------------------------------------------------------\u001b[0m",
      "\u001b[1;31mTypeError\u001b[0m                                 Traceback (most recent call last)",
      "Cell \u001b[1;32mIn[2], line 2\u001b[0m\n\u001b[0;32m      1\u001b[0m \u001b[38;5;28;01mimport\u001b[39;00m\u001b[38;5;250m \u001b[39m\u001b[38;5;21;01mnumpy\u001b[39;00m\u001b[38;5;250m \u001b[39m\u001b[38;5;28;01mas\u001b[39;00m\u001b[38;5;250m \u001b[39m\u001b[38;5;21;01mnp\u001b[39;00m\n\u001b[1;32m----> 2\u001b[0m arr\u001b[38;5;241m=\u001b[39mnp\u001b[38;5;241m.\u001b[39marray([\u001b[38;5;241m3\u001b[39m,\u001b[38;5;241m5\u001b[39m,\u001b[38;5;241m2\u001b[39m,\u001b[38;5;241m8\u001b[39m,\u001b[38;5;241m2\u001b[39m,\u001b[38;5;241m9\u001b[39m,\u001b[38;5;241m10\u001b[39m,\u001b[38;5;241m34\u001b[39m,\u001b[38;5;241m1\u001b[39m],dtype\u001b[38;5;241m=\u001b[39m\u001b[38;5;124m\"\u001b[39m\u001b[38;5;124mf5\u001b[39m\u001b[38;5;124m\"\u001b[39m)\n\u001b[0;32m      3\u001b[0m \u001b[38;5;66;03m# np.sort(arr)\u001b[39;00m\n\u001b[0;32m      4\u001b[0m \u001b[38;5;28mprint\u001b[39m(arr\u001b[38;5;241m.\u001b[39mdtype)\n",
      "\u001b[1;31mTypeError\u001b[0m: data type 'f5' not understood"
     ]
    }
   ],
   "source": [
    "import numpy as np\n",
    "arr=np.array([3,5,2,8,2,9,10,34,1],dtype=\"f5\")\n",
    "# np.sort(arr)\n",
    "print(arr.dtype)"
   ]
  },
  {
   "cell_type": "code",
   "execution_count": 17,
   "id": "f67244e5-967c-4309-9ac5-ac26e8a2682e",
   "metadata": {},
   "outputs": [
    {
     "name": "stdout",
     "output_type": "stream",
     "text": [
      "enter row cout: 5\n"
     ]
    },
    {
     "name": "stdout",
     "output_type": "stream",
     "text": [
      "     * \n",
      "    * * \n",
      "   * * * \n",
      "  * * * * \n",
      " * * * * * \n"
     ]
    }
   ],
   "source": [
    "n=int(input(\"enter row cout:\"))\n",
    "i=1\n",
    "while(i<=n): \n",
    "    print(' '*(n-i),'* '*i) \n",
    "    i+=1"
   ]
  },
  {
   "cell_type": "code",
   "execution_count": 2,
   "id": "b4b5a87a-ca81-4a78-a21c-286cb0db3185",
   "metadata": {},
   "outputs": [
    {
     "name": "stdin",
     "output_type": "stream",
     "text": [
      "enter row count: 5\n"
     ]
    },
    {
     "name": "stdout",
     "output_type": "stream",
     "text": [
      " = = = = = = = = = ="
     ]
    }
   ],
   "source": [
    "n=int(input(\"enter row count:\"))\n",
    "for i in range(n):\n",
    "    for j in range(n-i-1): \n",
    "        print(' ',end='=')"
   ]
  },
  {
   "cell_type": "code",
   "execution_count": 10,
   "id": "3c1597ec-dea3-4996-8087-0e5e755f3ce8",
   "metadata": {},
   "outputs": [
    {
     "data": {
      "text/plain": [
       "1"
      ]
     },
     "execution_count": 10,
     "metadata": {},
     "output_type": "execute_result"
    }
   ],
   "source": [
    "import numpy as np\n",
    "np.random.randint(0,4) "
   ]
  },
  {
   "cell_type": "code",
   "execution_count": 20,
   "id": "89b675b2-3fc4-4f2d-b6d9-2f4d35538f08",
   "metadata": {},
   "outputs": [
    {
     "name": "stdout",
     "output_type": "stream",
     "text": [
      "[3]\n"
     ]
    }
   ],
   "source": [
    "# np.random.randint(0,10)\n",
    "x=[np.random.randint(0,10)]\n",
    "print(x)\n",
    "\n",
    "\n"
   ]
  },
  {
   "cell_type": "code",
   "execution_count": 2,
   "id": "0ddc8580-4c55-4161-8161-97e4cae64be0",
   "metadata": {},
   "outputs": [
    {
     "name": "stdin",
     "output_type": "stream",
     "text": [
      "enter no.: 1\n",
      "enter no.: 2\n",
      "enter no.: 3\n",
      "enter no.: 4\n"
     ]
    },
    {
     "name": "stdout",
     "output_type": "stream",
     "text": [
      "[1 2 3 4]\n",
      "<class 'numpy.ndarray'>\n"
     ]
    }
   ],
   "source": [
    "import numpy as np\n",
    "l=[] \n",
    "for i in range(1,5):\n",
    "    x=int(input(\"enter no.:\"))\n",
    "    l.append(x)\n",
    "print(np.array(l))\n",
    "d=np.array(l)\n",
    "print(type(d))"
   ]
  },
  {
   "cell_type": "code",
   "execution_count": 3,
   "id": "b05c9d33-53b7-4fb2-97ae-b39178e14ec5",
   "metadata": {},
   "outputs": [],
   "source": [
    "arr1=np.eye(3)\n",
    "\n"
   ]
  },
  {
   "cell_type": "code",
   "execution_count": 3,
   "id": "79baf147-cc2e-4834-8cd0-38cf2d090f6e",
   "metadata": {},
   "outputs": [
    {
     "name": "stdout",
     "output_type": "stream",
     "text": [
      "[1 2 3 4 5]\n",
      "<class 'numpy.ndarray'>\n",
      "[10  2  3  4  5]\n"
     ]
    }
   ],
   "source": [
    "import numpy as np\n",
    "y=np.array([1,2,3,4,5])\n",
    "print(y)\n",
    "print(type(y))\n",
    "y[0]=10\n",
    "print(y)"
   ]
  },
  {
   "cell_type": "code",
   "execution_count": 1,
   "id": "e397e69d-11ef-4938-b8bd-1706f504574e",
   "metadata": {},
   "outputs": [
    {
     "name": "stdout",
     "output_type": "stream",
     "text": [
      "1.26.4\n"
     ]
    }
   ],
   "source": [
    "import numpy as np\n",
    "print(np.__version__)\n"
   ]
  },
  {
   "cell_type": "code",
   "execution_count": 4,
   "id": "e1afb381-6037-4b3e-b638-9cc8824341a4",
   "metadata": {},
   "outputs": [
    {
     "name": "stdout",
     "output_type": "stream",
     "text": [
      "Requirement already satisfied: numpy in c:\\users\\sawsu\\anaconda3\\lib\\site-packages (2.3.1)\n",
      "Note: you may need to restart the kernel to use updated packages.\n"
     ]
    }
   ],
   "source": [
    "%pip install --upgrade numpy\n",
    "\n",
    "\n"
   ]
  },
  {
   "cell_type": "code",
   "execution_count": 3,
   "id": "5842c698-0472-4200-9e6d-4d85bbb5a685",
   "metadata": {},
   "outputs": [
    {
     "name": "stdout",
     "output_type": "stream",
     "text": [
      "1.26.4\n"
     ]
    }
   ],
   "source": [
    "import numpy as np\n",
    "print(np.__version__)\n"
   ]
  },
  {
   "cell_type": "code",
   "execution_count": 1,
   "id": "f22ba6ea-4b99-46e1-827c-e27f94999f1b",
   "metadata": {},
   "outputs": [
    {
     "name": "stdout",
     "output_type": "stream",
     "text": [
      "2.3.1\n"
     ]
    }
   ],
   "source": [
    "import numpy as np\n",
    "print(np.__version__)\n"
   ]
  },
  {
   "cell_type": "code",
   "execution_count": 1,
   "id": "430f3171-6c6f-4a19-b7a8-2258227af3d9",
   "metadata": {},
   "outputs": [
    {
     "name": "stdout",
     "output_type": "stream",
     "text": [
      "Requirement already satisfied: pandas in c:\\users\\sawsu\\anaconda3\\lib\\site-packages (2.2.2)\n",
      "Collecting pandas\n",
      "  Downloading pandas-2.3.1-cp312-cp312-win_amd64.whl.metadata (19 kB)\n",
      "Requirement already satisfied: numpy>=1.26.0 in c:\\users\\sawsu\\anaconda3\\lib\\site-packages (from pandas) (2.3.1)\n",
      "Requirement already satisfied: python-dateutil>=2.8.2 in c:\\users\\sawsu\\anaconda3\\lib\\site-packages (from pandas) (2.9.0.post0)\n",
      "Requirement already satisfied: pytz>=2020.1 in c:\\users\\sawsu\\anaconda3\\lib\\site-packages (from pandas) (2024.1)\n",
      "Requirement already satisfied: tzdata>=2022.7 in c:\\users\\sawsu\\anaconda3\\lib\\site-packages (from pandas) (2023.3)\n",
      "Requirement already satisfied: six>=1.5 in c:\\users\\sawsu\\anaconda3\\lib\\site-packages (from python-dateutil>=2.8.2->pandas) (1.16.0)\n",
      "Downloading pandas-2.3.1-cp312-cp312-win_amd64.whl (11.0 MB)\n",
      "   ---------------------------------------- 0.0/11.0 MB ? eta -:--:--\n",
      "   -- ------------------------------------- 0.8/11.0 MB 8.3 MB/s eta 0:00:02\n",
      "   -------- ------------------------------- 2.4/11.0 MB 7.4 MB/s eta 0:00:02\n",
      "   ------------- -------------------------- 3.7/11.0 MB 7.8 MB/s eta 0:00:01\n",
      "   -------------- ------------------------- 3.9/11.0 MB 6.9 MB/s eta 0:00:02\n",
      "   ---------------- ----------------------- 4.5/11.0 MB 5.2 MB/s eta 0:00:02\n",
      "   ---------------- ----------------------- 4.5/11.0 MB 5.2 MB/s eta 0:00:02\n",
      "   -------------------- ------------------- 5.8/11.0 MB 4.2 MB/s eta 0:00:02\n",
      "   ------------------------- -------------- 7.1/11.0 MB 4.5 MB/s eta 0:00:01\n",
      "   -------------------------------- ------- 8.9/11.0 MB 5.0 MB/s eta 0:00:01\n",
      "   -------------------------------------- - 10.5/11.0 MB 5.4 MB/s eta 0:00:01\n",
      "   ---------------------------------------- 11.0/11.0 MB 5.4 MB/s eta 0:00:00\n",
      "Installing collected packages: pandas\n",
      "  Attempting uninstall: pandas\n",
      "    Found existing installation: pandas 2.2.2\n",
      "    Uninstalling pandas-2.2.2:\n",
      "      Successfully uninstalled pandas-2.2.2\n",
      "Successfully installed pandas-2.3.1\n",
      "Note: you may need to restart the kernel to use updated packages.\n"
     ]
    }
   ],
   "source": [
    "pip install --upgrade pandas\n"
   ]
  },
  {
   "cell_type": "code",
   "execution_count": 2,
   "id": "8161badf-9459-48a1-a989-10f7142717be",
   "metadata": {},
   "outputs": [
    {
     "name": "stdout",
     "output_type": "stream",
     "text": [
      "2.3.1\n"
     ]
    }
   ],
   "source": [
    "import pandas as pd\n",
    "print(pd.__version__)\n"
   ]
  },
  {
   "cell_type": "code",
   "execution_count": 3,
   "id": "31fc0def-7114-406b-af69-661c7d1f1bb4",
   "metadata": {},
   "outputs": [
    {
     "name": "stdin",
     "output_type": "stream",
     "text": [
      "enter row cout: 6\n"
     ]
    },
    {
     "name": "stdout",
     "output_type": "stream",
     "text": [
      "  * * * * * \n",
      "   * * * * \n",
      "    * * * \n",
      "     * * \n",
      "      * \n",
      "       \n"
     ]
    }
   ],
   "source": [
    "n=int(input(\"enter row cout:\"))\n",
    "i=1\n",
    "while(i<=n): \n",
    "    print(' '*i,'* '*(n-i)) \n",
    "    i+=1"
   ]
  },
  {
   "cell_type": "code",
   "execution_count": 2,
   "id": "2915e30b-d8bd-43ea-ac7a-5ef36edd8082",
   "metadata": {},
   "outputs": [
    {
     "name": "stdout",
     "output_type": "stream",
     "text": [
      "[1 2 3 4 5]\n",
      "<class 'numpy.ndarray'>\n"
     ]
    }
   ],
   "source": [
    "import numpy as np\n",
    "x=np.array([1,2,3,4,5])\n",
    "print(x)\n",
    "print(type(x))"
   ]
  },
  {
   "cell_type": "code",
   "execution_count": 3,
   "id": "b73c7224-d535-4845-a72a-f456b110efcc",
   "metadata": {},
   "outputs": [
    {
     "name": "stdout",
     "output_type": "stream",
     "text": [
      "[1, 2, 3, 4, 5]\n",
      "<class 'list'>\n"
     ]
    }
   ],
   "source": [
    "y=[1,2,3,4,5]\n",
    "print(y)\n",
    "print(type(y))"
   ]
  },
  {
   "cell_type": "code",
   "execution_count": 7,
   "id": "5044913f-8847-4b71-bd71-044a0a1296d1",
   "metadata": {},
   "outputs": [
    {
     "name": "stdout",
     "output_type": "stream",
     "text": [
      "739 ns ± 59 ns per loop (mean ± std. dev. of 7 runs, 1,000,000 loops each)\n"
     ]
    }
   ],
   "source": [
    "%timeit [j**4 for j in range(1,9)]"
   ]
  },
  {
   "cell_type": "code",
   "execution_count": 10,
   "id": "7c30102d-c965-4461-8ad8-7844af458861",
   "metadata": {},
   "outputs": [
    {
     "name": "stdout",
     "output_type": "stream",
     "text": [
      "2.06 μs ± 130 ns per loop (mean ± std. dev. of 7 runs, 1,000,000 loops each)\n"
     ]
    }
   ],
   "source": [
    "import numpy as np\n",
    "%timeit np.arange(1,9)**4"
   ]
  },
  {
   "cell_type": "markdown",
   "id": "f09aea76-f278-4d34-a75d-1800c2e9f066",
   "metadata": {},
   "source": [
    "# Array--------"
   ]
  },
  {
   "cell_type": "code",
   "execution_count": 13,
   "id": "89e9fcd9-2d60-4bcb-90ba-5f0f9385ebf2",
   "metadata": {},
   "outputs": [
    {
     "data": {
      "text/plain": [
       "array([1, 2, 3, 4, 5])"
      ]
     },
     "execution_count": 13,
     "metadata": {},
     "output_type": "execute_result"
    }
   ],
   "source": [
    "x=[1,2,3,4,5]\n",
    "y=np.array(x)\n",
    "y\n",
    "# print(y) "
   ]
  },
  {
   "cell_type": "code",
   "execution_count": 16,
   "id": "318c8fb1-b188-4c35-8ee9-cfbab063bd0d",
   "metadata": {},
   "outputs": [
    {
     "name": "stdin",
     "output_type": "stream",
     "text": [
      "enter any number: 1\n",
      "enter any number: 2\n",
      "enter any number: 3\n",
      "enter any number: 4\n"
     ]
    },
    {
     "name": "stdout",
     "output_type": "stream",
     "text": [
      "[1 2 3 4]\n",
      "6.8 μs ± 594 ns per loop (mean ± std. dev. of 7 runs, 100,000 loops each)\n"
     ]
    }
   ],
   "source": [
    "l=[] \n",
    "for i in range(1,5): \n",
    "    int_1=int(input(\"enter any number:\"))\n",
    "    l.append(int_1)\n",
    "print(np.array(l)) \n",
    "%timeit np.arange(1,5)**4"
   ]
  },
  {
   "cell_type": "code",
   "execution_count": 17,
   "id": "82c411e5-0a9c-4ff9-b135-8d8d4fdc8d2c",
   "metadata": {},
   "outputs": [
    {
     "name": "stdout",
     "output_type": "stream",
     "text": [
      "[[1 2 3 4]\n",
      " [5 4 3 2]]\n",
      "2\n"
     ]
    }
   ],
   "source": [
    "ar_2=np.array([[1,2,3,4],[5,4,3,2]])\n",
    "print(ar_2)\n",
    "print(ar_2.ndim)"
   ]
  },
  {
   "cell_type": "code",
   "execution_count": 19,
   "id": "9e7b61f6-be5c-4616-a7a0-51964baa1852",
   "metadata": {},
   "outputs": [
    {
     "name": "stdout",
     "output_type": "stream",
     "text": [
      "[[[0 1 2 3 4]\n",
      "  [8 7 6 5 4]\n",
      "  [4 5 6 7 8]]]\n",
      "3\n"
     ]
    }
   ],
   "source": [
    "ar_3=np.array([[[0,1,2,3,4],[8,7,6,5,4],[4,5,6,7,8]]])\n",
    "print(ar_3)\n",
    "print(ar_3.ndim)"
   ]
  },
  {
   "cell_type": "code",
   "execution_count": 21,
   "id": "600f9316-772a-4f90-a6a3-7d5eb43c5914",
   "metadata": {},
   "outputs": [
    {
     "name": "stdout",
     "output_type": "stream",
     "text": [
      "[[[[[[[[[[3 4 5 6]]]]]]]]]]\n",
      "10\n"
     ]
    }
   ],
   "source": [
    "ar_n=np.array([3,4,5,6],ndmin=10)\n",
    "print(ar_n)\n",
    "print(ar_n.ndim)"
   ]
  },
  {
   "cell_type": "markdown",
   "id": "6500ff34-f430-465a-a56d-223d05da754b",
   "metadata": {},
   "source": [
    "# Create numpy array using numpy functions"
   ]
  },
  {
   "cell_type": "raw",
   "id": "3100d71d-b930-4dbb-b23c-7e98956b1ac6",
   "metadata": {},
   "source": [
    "1. Zeros----------"
   ]
  },
  {
   "cell_type": "code",
   "execution_count": 25,
   "id": "7376983e-553b-4b72-851c-2a2766be0b02",
   "metadata": {},
   "outputs": [
    {
     "name": "stdout",
     "output_type": "stream",
     "text": [
      "[0. 0. 0. 0.]\n",
      "1\n",
      "[[0. 0. 0. 0.]\n",
      " [0. 0. 0. 0.]\n",
      " [0. 0. 0. 0.]]\n",
      "2\n"
     ]
    }
   ],
   "source": [
    "ar_zero=np.zeros(4)\n",
    "ar_zero1=np.zeros((3,4))\n",
    "print(ar_zero)\n",
    "print(ar_zero.ndim)\n",
    "print(ar_zero1)\n",
    "print(ar_zero1.ndim)"
   ]
  },
  {
   "cell_type": "raw",
   "id": "0b21ff38-3856-4e0c-94d5-ebb4787509f1",
   "metadata": {},
   "source": [
    "2. Ones"
   ]
  },
  {
   "cell_type": "code",
   "execution_count": 28,
   "id": "7438a836-d959-4029-b76e-12abccdf941a",
   "metadata": {},
   "outputs": [
    {
     "name": "stdout",
     "output_type": "stream",
     "text": [
      "[1. 1. 1. 1.]\n",
      "1\n",
      "[[1. 1. 1.]\n",
      " [1. 1. 1.]]\n",
      "2\n"
     ]
    }
   ],
   "source": [
    "ar_one=np.ones(4)\n",
    "print(ar_one)\n",
    "print(ar_one.ndim)\n",
    "ar_one1=np.ones((2,3))\n",
    "print(ar_one1)\n",
    "print(ar_zero1.ndim)"
   ]
  },
  {
   "cell_type": "raw",
   "id": "06be3d5f-e07b-44eb-9a5b-54cebd64b087",
   "metadata": {},
   "source": [
    "3. Empty"
   ]
  },
  {
   "cell_type": "code",
   "execution_count": 29,
   "id": "293f3b9d-2f84-43fd-9a37-364d639565ec",
   "metadata": {},
   "outputs": [
    {
     "name": "stdout",
     "output_type": "stream",
     "text": [
      "[1. 1. 1. 1.]\n"
     ]
    }
   ],
   "source": [
    "ar_emp=np.empty(4)\n",
    "print(ar_emp)"
   ]
  },
  {
   "cell_type": "raw",
   "id": "485ba65f-315f-4aa0-9803-4da8e21763b5",
   "metadata": {},
   "source": [
    "4. Range"
   ]
  },
  {
   "cell_type": "code",
   "execution_count": 31,
   "id": "b5c743d8-3215-4998-8088-1c9ede875516",
   "metadata": {},
   "outputs": [
    {
     "name": "stdout",
     "output_type": "stream",
     "text": [
      "[0 1 2 3]\n",
      "1\n"
     ]
    }
   ],
   "source": [
    "ar_rg=np.arange(4)\n",
    "print(ar_rg)\n",
    "print(ar_rg.ndim)"
   ]
  },
  {
   "cell_type": "raw",
   "id": "502ccdae-6c81-418a-813a-a6acd38511a5",
   "metadata": {},
   "source": [
    "5. Diagonal"
   ]
  },
  {
   "cell_type": "code",
   "execution_count": 33,
   "id": "9ef9058c-147c-4097-9a1f-e4c66a164b5c",
   "metadata": {},
   "outputs": [
    {
     "name": "stdout",
     "output_type": "stream",
     "text": [
      "[[1. 0. 0. 0.]\n",
      " [0. 1. 0. 0.]\n",
      " [0. 0. 1. 0.]\n",
      " [0. 0. 0. 1.]]\n"
     ]
    }
   ],
   "source": [
    "ar_dia=np.eye(4)\n",
    "print(ar_dia)"
   ]
  },
  {
   "cell_type": "code",
   "execution_count": 2,
   "id": "01c2bb1c-c537-4f79-a6b5-3ab045dc7984",
   "metadata": {},
   "outputs": [
    {
     "name": "stdout",
     "output_type": "stream",
     "text": [
      "[[1. 0. 0. 0. 0.]\n",
      " [0. 1. 0. 0. 0.]\n",
      " [0. 0. 1. 0. 0.]]\n",
      "2\n"
     ]
    }
   ],
   "source": [
    "import numpy as np\n",
    "ar_dia1=np.eye(3,5)\n",
    "print(ar_dia1)\n",
    "print(ar_dia1.ndim)"
   ]
  },
  {
   "cell_type": "raw",
   "id": "20f44c2f-9a53-46c1-bf82-03b1cb4fb39e",
   "metadata": {},
   "source": [
    "6. linspace"
   ]
  },
  {
   "cell_type": "code",
   "execution_count": 3,
   "id": "3974ccd5-bdfa-4543-ad9b-1f9bd97b2a70",
   "metadata": {},
   "outputs": [
    {
     "name": "stdout",
     "output_type": "stream",
     "text": [
      "[ 0.  5. 10. 15. 20.]\n",
      "1\n"
     ]
    }
   ],
   "source": [
    "ar_lins=np.linspace(0,20,num=5)\n",
    "print(ar_lins)\n",
    "print(ar_lins.ndim)"
   ]
  },
  {
   "cell_type": "markdown",
   "id": "97ea5758-6e0e-42c1-8cab-5bcf163ea7af",
   "metadata": {},
   "source": [
    "# create numpy arrays with random numbers"
   ]
  },
  {
   "cell_type": "markdown",
   "id": "f04393a9-3f85-4f15-841b-518232b68e10",
   "metadata": {},
   "source": [
    "# Random:---------------"
   ]
  },
  {
   "cell_type": "raw",
   "id": "b47bf9b0-6387-4c60-afc0-1852df70e42d",
   "metadata": {},
   "source": [
    "a.rand()"
   ]
  },
  {
   "cell_type": "code",
   "execution_count": 7,
   "id": "f8e1505e-858b-4681-afe2-974a7248ceae",
   "metadata": {},
   "outputs": [
    {
     "name": "stdout",
     "output_type": "stream",
     "text": [
      "[0.01153764 0.79883462 0.80971911 0.41891682]\n",
      "[[0.94637751 0.33394397 0.45066088 0.05814811 0.7451466 ]\n",
      " [0.63814332 0.15402776 0.78870219 0.64243647 0.28822573]]\n"
     ]
    }
   ],
   "source": [
    "import numpy as np\n",
    "var=np.random.rand(4)\n",
    "print(var)\n",
    "var1=np.random.rand(2,5)\n",
    "print(var1)"
   ]
  },
  {
   "cell_type": "raw",
   "id": "9115a97b-138d-482f-8b67-a114e9491055",
   "metadata": {},
   "source": [
    "b.randf()"
   ]
  },
  {
   "cell_type": "code",
   "execution_count": 3,
   "id": "2d2b9c3c-6e40-463e-88d4-7680d076ea62",
   "metadata": {},
   "outputs": [
    {
     "name": "stdout",
     "output_type": "stream",
     "text": [
      "[-0.91782517  0.6001806   0.20504295  0.81067595  0.20013386]\n"
     ]
    }
   ],
   "source": [
    "import numpy as np\n",
    "var2=np.random.randn(5)\n",
    "print(var2)"
   ]
  },
  {
   "cell_type": "raw",
   "id": "505a1d4b-1b31-472f-a1ef-96a6b1ee52e9",
   "metadata": {},
   "source": [
    "c.ranf()"
   ]
  },
  {
   "cell_type": "code",
   "execution_count": 6,
   "id": "e1980ff0-55a6-4b4e-92eb-69a28f9ec551",
   "metadata": {},
   "outputs": [
    {
     "name": "stdout",
     "output_type": "stream",
     "text": [
      "[0.41644422 0.14660074 0.7869724  0.54372245 0.63311573]\n"
     ]
    }
   ],
   "source": [
    "var3=np.random.ranf(5)\n",
    "print(var3)"
   ]
  },
  {
   "cell_type": "code",
   "execution_count": null,
   "id": "b7fa19b0-7242-48ad-aa1e-159ebb3c4ac0",
   "metadata": {},
   "outputs": [],
   "source": [
    "d.randint(min,max,total_value)"
   ]
  },
  {
   "cell_type": "code",
   "execution_count": 34,
   "id": "a657869d-5e64-4f97-8522-f390e2a1cc8a",
   "metadata": {},
   "outputs": [
    {
     "name": "stdout",
     "output_type": "stream",
     "text": [
      "[ 4 13 15 11 18  8  5 14  7 17]\n"
     ]
    }
   ],
   "source": [
    "var4=np.random.randint(4,20,10)\n",
    "print(var4)"
   ]
  },
  {
   "cell_type": "markdown",
   "id": "2cad7531-448c-41f0-883a-8d84a57c398b",
   "metadata": {},
   "source": [
    "# data type in numpy arrays"
   ]
  },
  {
   "cell_type": "code",
   "execution_count": 6,
   "id": "aed22a3b-0fef-4bd9-bc4a-2538473acc65",
   "metadata": {},
   "outputs": [
    {
     "name": "stdout",
     "output_type": "stream",
     "text": [
      "data_type: int64\n"
     ]
    }
   ],
   "source": [
    "import numpy as np\n",
    "var_a=np.array([1,2,3,4,5])\n",
    "print(\"data_type:\",var_a.dtype)"
   ]
  },
  {
   "cell_type": "code",
   "execution_count": 9,
   "id": "f94941a9-c3b8-4193-af58-220b17f05b2a",
   "metadata": {},
   "outputs": [
    {
     "name": "stdout",
     "output_type": "stream",
     "text": [
      "data_type: int8\n"
     ]
    }
   ],
   "source": [
    "import numpy as np\n",
    "# change the data types\n",
    "var_a=np.array([1,2,3,4,5],dtype=np.int8)\n",
    "print(\"data_type:\",var_a.dtype)"
   ]
  },
  {
   "cell_type": "code",
   "execution_count": 7,
   "id": "f192d4ac-6ced-4dd3-b046-b68d4902eaf3",
   "metadata": {},
   "outputs": [
    {
     "name": "stdout",
     "output_type": "stream",
     "text": [
      "data_type: <U21\n"
     ]
    }
   ],
   "source": [
    "var_a=np.array(['a','b',1,2,3,4,5])\n",
    "print(\"data_type:\",var_a.dtype)"
   ]
  },
  {
   "cell_type": "code",
   "execution_count": 8,
   "id": "746d2c06-43b2-4def-a6cb-b76f7a0c345b",
   "metadata": {},
   "outputs": [
    {
     "name": "stdout",
     "output_type": "stream",
     "text": [
      "data_type: float64\n"
     ]
    }
   ],
   "source": [
    "var_a=np.array([1.0,2.12,3.3,0.4,5])\n",
    "print(\"data_type:\",var_a.dtype)"
   ]
  },
  {
   "cell_type": "markdown",
   "id": "ce9ca54f-d3b2-4ef1-a0bf-a86f033aacff",
   "metadata": {},
   "source": [
    "# Arithematic operation in numpy arrays"
   ]
  },
  {
   "cell_type": "code",
   "execution_count": 3,
   "id": "8d916b67-3b05-46bf-9f80-9c650165f663",
   "metadata": {},
   "outputs": [
    {
     "name": "stdout",
     "output_type": "stream",
     "text": [
      "[5 6 7 8]\n"
     ]
    }
   ],
   "source": [
    "import numpy as np\n",
    "var_ar=np.array([1,2,3,4])\n",
    "var_add=var_ar+4\n",
    "print(var_add)"
   ]
  },
  {
   "cell_type": "code",
   "execution_count": 9,
   "id": "b17b02b6-8788-4742-bf13-2066c20f3d60",
   "metadata": {},
   "outputs": [
    {
     "name": "stdout",
     "output_type": "stream",
     "text": [
      "[5 6 7 8]\n"
     ]
    }
   ],
   "source": [
    "# Addition using functions\n",
    "var_ar=np.array([1,2,3,4])\n",
    "var_add=np.add(var_ar,4)\n",
    "print(var_add)"
   ]
  },
  {
   "cell_type": "code",
   "execution_count": 4,
   "id": "e87fd53c-af2f-4923-9940-07822b0118d5",
   "metadata": {},
   "outputs": [
    {
     "name": "stdout",
     "output_type": "stream",
     "text": [
      "[2 4 6 8]\n"
     ]
    }
   ],
   "source": [
    "var_ar=np.array([1,2,3,4])\n",
    "var_ar1=np.array([1,2,3,4])\n",
    "var_add=var_ar+var_ar1\n",
    "print(var_add)"
   ]
  },
  {
   "cell_type": "code",
   "execution_count": 8,
   "id": "bb329619-1b82-488b-a6b4-3b30881efc87",
   "metadata": {},
   "outputs": [
    {
     "name": "stdout",
     "output_type": "stream",
     "text": [
      "[2 4 6 8]\n"
     ]
    }
   ],
   "source": [
    "# Addition using functions\n",
    "var_ar=np.array([1,2,3,4])\n",
    "var_ar1=np.array([1,2,3,4])\n",
    "var_add=np.add(var_ar,var_ar1)\n",
    "print(var_add)"
   ]
  },
  {
   "cell_type": "code",
   "execution_count": 5,
   "id": "30bc2805-90c7-4e5b-86f3-9f8826eba060",
   "metadata": {},
   "outputs": [
    {
     "name": "stdout",
     "output_type": "stream",
     "text": [
      "[-3 -2 -1  0]\n"
     ]
    }
   ],
   "source": [
    "import numpy as np\n",
    "var_ar=np.array([1,2,3,4])\n",
    "var_sub=var_ar-4\n",
    "print(var_sub)"
   ]
  },
  {
   "cell_type": "code",
   "execution_count": 13,
   "id": "ec6ab9df-0419-4c4f-8661-c285ccd06e48",
   "metadata": {},
   "outputs": [
    {
     "name": "stdout",
     "output_type": "stream",
     "text": [
      "[-3 -2 -1  0]\n"
     ]
    }
   ],
   "source": [
    "# subtraction using functions\n",
    "var_ar=np.array([1,2,3,4])\n",
    "var_sub=np.subtract(var_ar,4)\n",
    "print(var_sub)"
   ]
  },
  {
   "cell_type": "code",
   "execution_count": 15,
   "id": "460ead46-4ccc-48fb-b842-16acfa0d1f4a",
   "metadata": {},
   "outputs": [
    {
     "name": "stdout",
     "output_type": "stream",
     "text": [
      "[0 0 0 0]\n"
     ]
    }
   ],
   "source": [
    "# subtraction using functions\n",
    "var_ar=np.array([1,2,3,4])\n",
    "var_ar1=np.array([1,2,3,4])\n",
    "var_add=np.add(var_ar,var_ar1)\n",
    "print(var_sub)"
   ]
  },
  {
   "cell_type": "code",
   "execution_count": 6,
   "id": "05503fab-edc3-4601-9b7f-63b5713870ef",
   "metadata": {},
   "outputs": [
    {
     "name": "stdout",
     "output_type": "stream",
     "text": [
      "[0.25 0.5  0.75 1.  ]\n"
     ]
    }
   ],
   "source": [
    "import numpy as np\n",
    "var_ar=np.array([1,2,3,4])\n",
    "var_div=var_ar/4\n",
    "print(var_div)"
   ]
  },
  {
   "cell_type": "code",
   "execution_count": 7,
   "id": "09972f77-2260-40d2-8fcc-01bbf29b1556",
   "metadata": {},
   "outputs": [
    {
     "name": "stdout",
     "output_type": "stream",
     "text": [
      "[1 2 3 0]\n"
     ]
    }
   ],
   "source": [
    "import numpy as np\n",
    "var_ar=np.array([1,2,3,4])\n",
    "var_mod=var_ar%4\n",
    "print(var_mod)"
   ]
  },
  {
   "cell_type": "code",
   "execution_count": 17,
   "id": "be89fe30-e2a2-4a19-a468-78232d0f4ea6",
   "metadata": {},
   "outputs": [
    {
     "name": "stdout",
     "output_type": "stream",
     "text": [
      "[1 0 0 0]\n"
     ]
    }
   ],
   "source": [
    "# reciprocal function\n",
    "import numpy as np\n",
    "var_ar=np.array([1,2,3,4])\n",
    "var_reciprocal=np.reciprocal(var_ar)\n",
    "print(var_reciprocal)"
   ]
  },
  {
   "cell_type": "code",
   "execution_count": 18,
   "id": "bbc3c584-a50e-4fd8-b2c9-630e1f04cb1b",
   "metadata": {},
   "outputs": [
    {
     "name": "stdout",
     "output_type": "stream",
     "text": [
      "[1.         0.5        0.33333333 0.25       2.        ]\n"
     ]
    }
   ],
   "source": [
    "# reciprocal function\n",
    "import numpy as np\n",
    "var_ar=np.array([1,2,3,4,0.5])\n",
    "var_reciprocal=np.reciprocal(var_ar)\n",
    "print(var_reciprocal)"
   ]
  },
  {
   "cell_type": "markdown",
   "id": "465c0fcf-8ec7-4161-aabd-0839efa9391a",
   "metadata": {},
   "source": [
    "# 2D array"
   ]
  },
  {
   "cell_type": "code",
   "execution_count": 20,
   "id": "db4b98e6-5013-4521-aefa-d0e343ed1196",
   "metadata": {},
   "outputs": [
    {
     "name": "stdout",
     "output_type": "stream",
     "text": [
      "[[1 2 3 4]\n",
      " [1 2 3 4]]\n",
      "\n",
      "[[1 2 3 4]\n",
      " [1 2 3 4]]\n",
      "\n",
      "[[ 1  4  9 16]\n",
      " [ 1  4  9 16]]\n"
     ]
    }
   ],
   "source": [
    "var_2d=np.array([[1,2,3,4],[1,2,3,4]])\n",
    "var_2d1=np.array([[1,2,3,4],[1,2,3,4]])\n",
    "print(var_2d)\n",
    "print()\n",
    "print(var_2d1)\n",
    "print()\n",
    "var_2d_mul=var_2d*var_2d1\n",
    "print(var_2d_mul)"
   ]
  },
  {
   "cell_type": "code",
   "execution_count": 12,
   "id": "4cd40746-3c20-484f-a7a9-defd9ae8d20f",
   "metadata": {},
   "outputs": [
    {
     "name": "stdout",
     "output_type": "stream",
     "text": [
      "    name  age    city\n",
      "0    sun   22  bhopal\n",
      "1   moon   34  indore\n",
      "2  earth   33   delhi\n"
     ]
    }
   ],
   "source": [
    "import pandas as pd\n",
    "data={\"name\":['sun','moon','earth'],\n",
    "'age':[22,34,33],\n",
    "'city':['bhopal','indore','delhi']\n",
    "}\n",
    "df=pd.DataFrame(data)\n",
    "df.to_excel(\"output.xlsx\",index=False)\n",
    "print(df)\n"
   ]
  },
  {
   "cell_type": "code",
   "execution_count": 15,
   "id": "2b955a17-3ab5-40d4-8807-180581e3ccb9",
   "metadata": {},
   "outputs": [
    {
     "data": {
      "text/html": [
       "<div>\n",
       "<style scoped>\n",
       "    .dataframe tbody tr th:only-of-type {\n",
       "        vertical-align: middle;\n",
       "    }\n",
       "\n",
       "    .dataframe tbody tr th {\n",
       "        vertical-align: top;\n",
       "    }\n",
       "\n",
       "    .dataframe thead th {\n",
       "        text-align: right;\n",
       "    }\n",
       "</style>\n",
       "<table border=\"1\" class=\"dataframe\">\n",
       "  <thead>\n",
       "    <tr style=\"text-align: right;\">\n",
       "      <th></th>\n",
       "      <th>mpg</th>\n",
       "      <th>cylinders</th>\n",
       "      <th>displacement</th>\n",
       "      <th>horsepower</th>\n",
       "      <th>weight</th>\n",
       "      <th>acceleration</th>\n",
       "      <th>model</th>\n",
       "      <th>origin</th>\n",
       "      <th>car</th>\n",
       "      <th>Unnamed: 9</th>\n",
       "      <th>Unnamed: 10</th>\n",
       "      <th>Unnamed: 11</th>\n",
       "      <th>Unnamed: 12</th>\n",
       "      <th>Unnamed: 13</th>\n",
       "    </tr>\n",
       "  </thead>\n",
       "  <tbody>\n",
       "    <tr>\n",
       "      <th>0</th>\n",
       "      <td>18.0</td>\n",
       "      <td>8</td>\n",
       "      <td>307</td>\n",
       "      <td>130</td>\n",
       "      <td>3504</td>\n",
       "      <td>12.0</td>\n",
       "      <td>70</td>\n",
       "      <td>1</td>\n",
       "      <td>chevrolet chevelle malibu</td>\n",
       "      <td>NaN</td>\n",
       "      <td>NaN</td>\n",
       "      <td>NaN</td>\n",
       "      <td>NaN</td>\n",
       "      <td>NaN</td>\n",
       "    </tr>\n",
       "    <tr>\n",
       "      <th>1</th>\n",
       "      <td>15.0</td>\n",
       "      <td>8</td>\n",
       "      <td>350</td>\n",
       "      <td>165</td>\n",
       "      <td>3693</td>\n",
       "      <td>11.5</td>\n",
       "      <td>70</td>\n",
       "      <td>1</td>\n",
       "      <td>buick skylark 320</td>\n",
       "      <td>NaN</td>\n",
       "      <td>NaN</td>\n",
       "      <td>NaN</td>\n",
       "      <td>NaN</td>\n",
       "      <td>NaN</td>\n",
       "    </tr>\n",
       "    <tr>\n",
       "      <th>2</th>\n",
       "      <td>18.0</td>\n",
       "      <td>8</td>\n",
       "      <td>318</td>\n",
       "      <td>150</td>\n",
       "      <td>3436</td>\n",
       "      <td>11.0</td>\n",
       "      <td>70</td>\n",
       "      <td>1</td>\n",
       "      <td>plymouth satellite</td>\n",
       "      <td>NaN</td>\n",
       "      <td>NaN</td>\n",
       "      <td>NaN</td>\n",
       "      <td>NaN</td>\n",
       "      <td>NaN</td>\n",
       "    </tr>\n",
       "    <tr>\n",
       "      <th>3</th>\n",
       "      <td>16.0</td>\n",
       "      <td>8</td>\n",
       "      <td>304</td>\n",
       "      <td>150</td>\n",
       "      <td>3433</td>\n",
       "      <td>12.0</td>\n",
       "      <td>70</td>\n",
       "      <td>1</td>\n",
       "      <td>amc rebel sst</td>\n",
       "      <td>NaN</td>\n",
       "      <td>NaN</td>\n",
       "      <td>NaN</td>\n",
       "      <td>NaN</td>\n",
       "      <td>NaN</td>\n",
       "    </tr>\n",
       "    <tr>\n",
       "      <th>4</th>\n",
       "      <td>17.0</td>\n",
       "      <td>8</td>\n",
       "      <td>302</td>\n",
       "      <td>140</td>\n",
       "      <td>3449</td>\n",
       "      <td>10.5</td>\n",
       "      <td>70</td>\n",
       "      <td>1</td>\n",
       "      <td>ford torino</td>\n",
       "      <td>NaN</td>\n",
       "      <td>NaN</td>\n",
       "      <td>NaN</td>\n",
       "      <td>NaN</td>\n",
       "      <td>NaN</td>\n",
       "    </tr>\n",
       "    <tr>\n",
       "      <th>...</th>\n",
       "      <td>...</td>\n",
       "      <td>...</td>\n",
       "      <td>...</td>\n",
       "      <td>...</td>\n",
       "      <td>...</td>\n",
       "      <td>...</td>\n",
       "      <td>...</td>\n",
       "      <td>...</td>\n",
       "      <td>...</td>\n",
       "      <td>...</td>\n",
       "      <td>...</td>\n",
       "      <td>...</td>\n",
       "      <td>...</td>\n",
       "      <td>...</td>\n",
       "    </tr>\n",
       "    <tr>\n",
       "      <th>193</th>\n",
       "      <td>24.0</td>\n",
       "      <td>6</td>\n",
       "      <td>200</td>\n",
       "      <td>81</td>\n",
       "      <td>3012</td>\n",
       "      <td>17.6</td>\n",
       "      <td>76</td>\n",
       "      <td>1</td>\n",
       "      <td>ford maverick</td>\n",
       "      <td>NaN</td>\n",
       "      <td>NaN</td>\n",
       "      <td>NaN</td>\n",
       "      <td>NaN</td>\n",
       "      <td>NaN</td>\n",
       "    </tr>\n",
       "    <tr>\n",
       "      <th>194</th>\n",
       "      <td>22.5</td>\n",
       "      <td>6</td>\n",
       "      <td>232</td>\n",
       "      <td>90</td>\n",
       "      <td>3085</td>\n",
       "      <td>17.6</td>\n",
       "      <td>76</td>\n",
       "      <td>1</td>\n",
       "      <td>amc hornet</td>\n",
       "      <td>NaN</td>\n",
       "      <td>NaN</td>\n",
       "      <td>NaN</td>\n",
       "      <td>NaN</td>\n",
       "      <td>NaN</td>\n",
       "    </tr>\n",
       "    <tr>\n",
       "      <th>195</th>\n",
       "      <td>29.0</td>\n",
       "      <td>4</td>\n",
       "      <td>85</td>\n",
       "      <td>52</td>\n",
       "      <td>2035</td>\n",
       "      <td>22.2</td>\n",
       "      <td>76</td>\n",
       "      <td>1</td>\n",
       "      <td>chevrolet chevette</td>\n",
       "      <td>NaN</td>\n",
       "      <td>NaN</td>\n",
       "      <td>NaN</td>\n",
       "      <td>NaN</td>\n",
       "      <td>NaN</td>\n",
       "    </tr>\n",
       "    <tr>\n",
       "      <th>196</th>\n",
       "      <td>24.5</td>\n",
       "      <td>4</td>\n",
       "      <td>98</td>\n",
       "      <td>60</td>\n",
       "      <td>2164</td>\n",
       "      <td>22.1</td>\n",
       "      <td>76</td>\n",
       "      <td>1</td>\n",
       "      <td>chevrolet woody</td>\n",
       "      <td>NaN</td>\n",
       "      <td>NaN</td>\n",
       "      <td>NaN</td>\n",
       "      <td>NaN</td>\n",
       "      <td>NaN</td>\n",
       "    </tr>\n",
       "    <tr>\n",
       "      <th>197</th>\n",
       "      <td>29.0</td>\n",
       "      <td>4</td>\n",
       "      <td>90</td>\n",
       "      <td>70</td>\n",
       "      <td>1937</td>\n",
       "      <td>14.2</td>\n",
       "      <td>76</td>\n",
       "      <td>2</td>\n",
       "      <td>vw rabbit</td>\n",
       "      <td>NaN</td>\n",
       "      <td>NaN</td>\n",
       "      <td>NaN</td>\n",
       "      <td>NaN</td>\n",
       "      <td>NaN</td>\n",
       "    </tr>\n",
       "  </tbody>\n",
       "</table>\n",
       "<p>198 rows × 14 columns</p>\n",
       "</div>"
      ],
      "text/plain": [
       "      mpg  cylinders  displacement horsepower  weight  acceleration  model  \\\n",
       "0    18.0          8           307        130    3504          12.0     70   \n",
       "1    15.0          8           350        165    3693          11.5     70   \n",
       "2    18.0          8           318        150    3436          11.0     70   \n",
       "3    16.0          8           304        150    3433          12.0     70   \n",
       "4    17.0          8           302        140    3449          10.5     70   \n",
       "..    ...        ...           ...        ...     ...           ...    ...   \n",
       "193  24.0          6           200         81    3012          17.6     76   \n",
       "194  22.5          6           232         90    3085          17.6     76   \n",
       "195  29.0          4            85         52    2035          22.2     76   \n",
       "196  24.5          4            98         60    2164          22.1     76   \n",
       "197  29.0          4            90         70    1937          14.2     76   \n",
       "\n",
       "     origin                        car  Unnamed: 9  Unnamed: 10  Unnamed: 11  \\\n",
       "0         1  chevrolet chevelle malibu         NaN          NaN          NaN   \n",
       "1         1          buick skylark 320         NaN          NaN          NaN   \n",
       "2         1         plymouth satellite         NaN          NaN          NaN   \n",
       "3         1              amc rebel sst         NaN          NaN          NaN   \n",
       "4         1                ford torino         NaN          NaN          NaN   \n",
       "..      ...                        ...         ...          ...          ...   \n",
       "193       1              ford maverick         NaN          NaN          NaN   \n",
       "194       1                 amc hornet         NaN          NaN          NaN   \n",
       "195       1         chevrolet chevette         NaN          NaN          NaN   \n",
       "196       1            chevrolet woody         NaN          NaN          NaN   \n",
       "197       2                  vw rabbit         NaN          NaN          NaN   \n",
       "\n",
       "     Unnamed: 12  Unnamed: 13  \n",
       "0            NaN          NaN  \n",
       "1            NaN          NaN  \n",
       "2            NaN          NaN  \n",
       "3            NaN          NaN  \n",
       "4            NaN          NaN  \n",
       "..           ...          ...  \n",
       "193          NaN          NaN  \n",
       "194          NaN          NaN  \n",
       "195          NaN          NaN  \n",
       "196          NaN          NaN  \n",
       "197          NaN          NaN  \n",
       "\n",
       "[198 rows x 14 columns]"
      ]
     },
     "execution_count": 15,
     "metadata": {},
     "output_type": "execute_result"
    }
   ],
   "source": [
    "pd.read_csv(\"D:/Ad_py_lib.csv/pandas_and_numpy/cars1.csv\")"
   ]
  },
  {
   "cell_type": "code",
   "execution_count": 18,
   "id": "d83e9e3d-34b5-48ab-a771-97ca64323cd8",
   "metadata": {},
   "outputs": [],
   "source": [
    "df=pd.read_csv(\"D:/Ad_py_lib.csv/pandas_and_numpy/cars1.csv\")"
   ]
  },
  {
   "cell_type": "code",
   "execution_count": 19,
   "id": "ae040437-633c-476d-8e05-db03c921eabd",
   "metadata": {},
   "outputs": [
    {
     "data": {
      "text/html": [
       "<div>\n",
       "<style scoped>\n",
       "    .dataframe tbody tr th:only-of-type {\n",
       "        vertical-align: middle;\n",
       "    }\n",
       "\n",
       "    .dataframe tbody tr th {\n",
       "        vertical-align: top;\n",
       "    }\n",
       "\n",
       "    .dataframe thead th {\n",
       "        text-align: right;\n",
       "    }\n",
       "</style>\n",
       "<table border=\"1\" class=\"dataframe\">\n",
       "  <thead>\n",
       "    <tr style=\"text-align: right;\">\n",
       "      <th></th>\n",
       "      <th>mpg</th>\n",
       "      <th>cylinders</th>\n",
       "      <th>displacement</th>\n",
       "      <th>horsepower</th>\n",
       "      <th>weight</th>\n",
       "      <th>acceleration</th>\n",
       "      <th>model</th>\n",
       "      <th>origin</th>\n",
       "      <th>car</th>\n",
       "      <th>Unnamed: 9</th>\n",
       "      <th>Unnamed: 10</th>\n",
       "      <th>Unnamed: 11</th>\n",
       "      <th>Unnamed: 12</th>\n",
       "      <th>Unnamed: 13</th>\n",
       "    </tr>\n",
       "  </thead>\n",
       "  <tbody>\n",
       "    <tr>\n",
       "      <th>0</th>\n",
       "      <td>18.0</td>\n",
       "      <td>8</td>\n",
       "      <td>307</td>\n",
       "      <td>130</td>\n",
       "      <td>3504</td>\n",
       "      <td>12.0</td>\n",
       "      <td>70</td>\n",
       "      <td>1</td>\n",
       "      <td>chevrolet chevelle malibu</td>\n",
       "      <td>NaN</td>\n",
       "      <td>NaN</td>\n",
       "      <td>NaN</td>\n",
       "      <td>NaN</td>\n",
       "      <td>NaN</td>\n",
       "    </tr>\n",
       "    <tr>\n",
       "      <th>1</th>\n",
       "      <td>15.0</td>\n",
       "      <td>8</td>\n",
       "      <td>350</td>\n",
       "      <td>165</td>\n",
       "      <td>3693</td>\n",
       "      <td>11.5</td>\n",
       "      <td>70</td>\n",
       "      <td>1</td>\n",
       "      <td>buick skylark 320</td>\n",
       "      <td>NaN</td>\n",
       "      <td>NaN</td>\n",
       "      <td>NaN</td>\n",
       "      <td>NaN</td>\n",
       "      <td>NaN</td>\n",
       "    </tr>\n",
       "    <tr>\n",
       "      <th>2</th>\n",
       "      <td>18.0</td>\n",
       "      <td>8</td>\n",
       "      <td>318</td>\n",
       "      <td>150</td>\n",
       "      <td>3436</td>\n",
       "      <td>11.0</td>\n",
       "      <td>70</td>\n",
       "      <td>1</td>\n",
       "      <td>plymouth satellite</td>\n",
       "      <td>NaN</td>\n",
       "      <td>NaN</td>\n",
       "      <td>NaN</td>\n",
       "      <td>NaN</td>\n",
       "      <td>NaN</td>\n",
       "    </tr>\n",
       "    <tr>\n",
       "      <th>3</th>\n",
       "      <td>16.0</td>\n",
       "      <td>8</td>\n",
       "      <td>304</td>\n",
       "      <td>150</td>\n",
       "      <td>3433</td>\n",
       "      <td>12.0</td>\n",
       "      <td>70</td>\n",
       "      <td>1</td>\n",
       "      <td>amc rebel sst</td>\n",
       "      <td>NaN</td>\n",
       "      <td>NaN</td>\n",
       "      <td>NaN</td>\n",
       "      <td>NaN</td>\n",
       "      <td>NaN</td>\n",
       "    </tr>\n",
       "    <tr>\n",
       "      <th>4</th>\n",
       "      <td>17.0</td>\n",
       "      <td>8</td>\n",
       "      <td>302</td>\n",
       "      <td>140</td>\n",
       "      <td>3449</td>\n",
       "      <td>10.5</td>\n",
       "      <td>70</td>\n",
       "      <td>1</td>\n",
       "      <td>ford torino</td>\n",
       "      <td>NaN</td>\n",
       "      <td>NaN</td>\n",
       "      <td>NaN</td>\n",
       "      <td>NaN</td>\n",
       "      <td>NaN</td>\n",
       "    </tr>\n",
       "    <tr>\n",
       "      <th>5</th>\n",
       "      <td>15.0</td>\n",
       "      <td>8</td>\n",
       "      <td>429</td>\n",
       "      <td>198</td>\n",
       "      <td>4341</td>\n",
       "      <td>10.0</td>\n",
       "      <td>70</td>\n",
       "      <td>1</td>\n",
       "      <td>ford galaxie 500</td>\n",
       "      <td>NaN</td>\n",
       "      <td>NaN</td>\n",
       "      <td>NaN</td>\n",
       "      <td>NaN</td>\n",
       "      <td>NaN</td>\n",
       "    </tr>\n",
       "    <tr>\n",
       "      <th>6</th>\n",
       "      <td>14.0</td>\n",
       "      <td>8</td>\n",
       "      <td>454</td>\n",
       "      <td>220</td>\n",
       "      <td>4354</td>\n",
       "      <td>9.0</td>\n",
       "      <td>70</td>\n",
       "      <td>1</td>\n",
       "      <td>chevrolet impala</td>\n",
       "      <td>NaN</td>\n",
       "      <td>NaN</td>\n",
       "      <td>NaN</td>\n",
       "      <td>NaN</td>\n",
       "      <td>NaN</td>\n",
       "    </tr>\n",
       "    <tr>\n",
       "      <th>7</th>\n",
       "      <td>14.0</td>\n",
       "      <td>8</td>\n",
       "      <td>440</td>\n",
       "      <td>215</td>\n",
       "      <td>4312</td>\n",
       "      <td>8.5</td>\n",
       "      <td>70</td>\n",
       "      <td>1</td>\n",
       "      <td>plymouth fury iii</td>\n",
       "      <td>NaN</td>\n",
       "      <td>NaN</td>\n",
       "      <td>NaN</td>\n",
       "      <td>NaN</td>\n",
       "      <td>NaN</td>\n",
       "    </tr>\n",
       "    <tr>\n",
       "      <th>8</th>\n",
       "      <td>14.0</td>\n",
       "      <td>8</td>\n",
       "      <td>455</td>\n",
       "      <td>225</td>\n",
       "      <td>4425</td>\n",
       "      <td>10.0</td>\n",
       "      <td>70</td>\n",
       "      <td>1</td>\n",
       "      <td>pontiac catalina</td>\n",
       "      <td>NaN</td>\n",
       "      <td>NaN</td>\n",
       "      <td>NaN</td>\n",
       "      <td>NaN</td>\n",
       "      <td>NaN</td>\n",
       "    </tr>\n",
       "    <tr>\n",
       "      <th>9</th>\n",
       "      <td>15.0</td>\n",
       "      <td>8</td>\n",
       "      <td>390</td>\n",
       "      <td>190</td>\n",
       "      <td>3850</td>\n",
       "      <td>8.5</td>\n",
       "      <td>70</td>\n",
       "      <td>1</td>\n",
       "      <td>amc ambassador dpl</td>\n",
       "      <td>NaN</td>\n",
       "      <td>NaN</td>\n",
       "      <td>NaN</td>\n",
       "      <td>NaN</td>\n",
       "      <td>NaN</td>\n",
       "    </tr>\n",
       "  </tbody>\n",
       "</table>\n",
       "</div>"
      ],
      "text/plain": [
       "    mpg  cylinders  displacement horsepower  weight  acceleration  model  \\\n",
       "0  18.0          8           307        130    3504          12.0     70   \n",
       "1  15.0          8           350        165    3693          11.5     70   \n",
       "2  18.0          8           318        150    3436          11.0     70   \n",
       "3  16.0          8           304        150    3433          12.0     70   \n",
       "4  17.0          8           302        140    3449          10.5     70   \n",
       "5  15.0          8           429        198    4341          10.0     70   \n",
       "6  14.0          8           454        220    4354           9.0     70   \n",
       "7  14.0          8           440        215    4312           8.5     70   \n",
       "8  14.0          8           455        225    4425          10.0     70   \n",
       "9  15.0          8           390        190    3850           8.5     70   \n",
       "\n",
       "   origin                        car  Unnamed: 9  Unnamed: 10  Unnamed: 11  \\\n",
       "0       1  chevrolet chevelle malibu         NaN          NaN          NaN   \n",
       "1       1          buick skylark 320         NaN          NaN          NaN   \n",
       "2       1         plymouth satellite         NaN          NaN          NaN   \n",
       "3       1              amc rebel sst         NaN          NaN          NaN   \n",
       "4       1                ford torino         NaN          NaN          NaN   \n",
       "5       1           ford galaxie 500         NaN          NaN          NaN   \n",
       "6       1           chevrolet impala         NaN          NaN          NaN   \n",
       "7       1          plymouth fury iii         NaN          NaN          NaN   \n",
       "8       1           pontiac catalina         NaN          NaN          NaN   \n",
       "9       1         amc ambassador dpl         NaN          NaN          NaN   \n",
       "\n",
       "   Unnamed: 12  Unnamed: 13  \n",
       "0          NaN          NaN  \n",
       "1          NaN          NaN  \n",
       "2          NaN          NaN  \n",
       "3          NaN          NaN  \n",
       "4          NaN          NaN  \n",
       "5          NaN          NaN  \n",
       "6          NaN          NaN  \n",
       "7          NaN          NaN  \n",
       "8          NaN          NaN  \n",
       "9          NaN          NaN  "
      ]
     },
     "execution_count": 19,
     "metadata": {},
     "output_type": "execute_result"
    }
   ],
   "source": [
    "df.head(10)"
   ]
  },
  {
   "cell_type": "code",
   "execution_count": 21,
   "id": "9be233b0-ca20-4909-8538-8960afc720bb",
   "metadata": {},
   "outputs": [
    {
     "data": {
      "text/html": [
       "<div>\n",
       "<style scoped>\n",
       "    .dataframe tbody tr th:only-of-type {\n",
       "        vertical-align: middle;\n",
       "    }\n",
       "\n",
       "    .dataframe tbody tr th {\n",
       "        vertical-align: top;\n",
       "    }\n",
       "\n",
       "    .dataframe thead th {\n",
       "        text-align: right;\n",
       "    }\n",
       "</style>\n",
       "<table border=\"1\" class=\"dataframe\">\n",
       "  <thead>\n",
       "    <tr style=\"text-align: right;\">\n",
       "      <th></th>\n",
       "      <th>mpg</th>\n",
       "      <th>cylinders</th>\n",
       "      <th>displacement</th>\n",
       "      <th>horsepower</th>\n",
       "      <th>weight</th>\n",
       "      <th>acceleration</th>\n",
       "      <th>model</th>\n",
       "      <th>origin</th>\n",
       "      <th>car</th>\n",
       "      <th>Unnamed: 9</th>\n",
       "      <th>Unnamed: 10</th>\n",
       "      <th>Unnamed: 11</th>\n",
       "      <th>Unnamed: 12</th>\n",
       "      <th>Unnamed: 13</th>\n",
       "    </tr>\n",
       "  </thead>\n",
       "  <tbody>\n",
       "    <tr>\n",
       "      <th>193</th>\n",
       "      <td>24.0</td>\n",
       "      <td>6</td>\n",
       "      <td>200</td>\n",
       "      <td>81</td>\n",
       "      <td>3012</td>\n",
       "      <td>17.6</td>\n",
       "      <td>76</td>\n",
       "      <td>1</td>\n",
       "      <td>ford maverick</td>\n",
       "      <td>NaN</td>\n",
       "      <td>NaN</td>\n",
       "      <td>NaN</td>\n",
       "      <td>NaN</td>\n",
       "      <td>NaN</td>\n",
       "    </tr>\n",
       "    <tr>\n",
       "      <th>194</th>\n",
       "      <td>22.5</td>\n",
       "      <td>6</td>\n",
       "      <td>232</td>\n",
       "      <td>90</td>\n",
       "      <td>3085</td>\n",
       "      <td>17.6</td>\n",
       "      <td>76</td>\n",
       "      <td>1</td>\n",
       "      <td>amc hornet</td>\n",
       "      <td>NaN</td>\n",
       "      <td>NaN</td>\n",
       "      <td>NaN</td>\n",
       "      <td>NaN</td>\n",
       "      <td>NaN</td>\n",
       "    </tr>\n",
       "    <tr>\n",
       "      <th>195</th>\n",
       "      <td>29.0</td>\n",
       "      <td>4</td>\n",
       "      <td>85</td>\n",
       "      <td>52</td>\n",
       "      <td>2035</td>\n",
       "      <td>22.2</td>\n",
       "      <td>76</td>\n",
       "      <td>1</td>\n",
       "      <td>chevrolet chevette</td>\n",
       "      <td>NaN</td>\n",
       "      <td>NaN</td>\n",
       "      <td>NaN</td>\n",
       "      <td>NaN</td>\n",
       "      <td>NaN</td>\n",
       "    </tr>\n",
       "    <tr>\n",
       "      <th>196</th>\n",
       "      <td>24.5</td>\n",
       "      <td>4</td>\n",
       "      <td>98</td>\n",
       "      <td>60</td>\n",
       "      <td>2164</td>\n",
       "      <td>22.1</td>\n",
       "      <td>76</td>\n",
       "      <td>1</td>\n",
       "      <td>chevrolet woody</td>\n",
       "      <td>NaN</td>\n",
       "      <td>NaN</td>\n",
       "      <td>NaN</td>\n",
       "      <td>NaN</td>\n",
       "      <td>NaN</td>\n",
       "    </tr>\n",
       "    <tr>\n",
       "      <th>197</th>\n",
       "      <td>29.0</td>\n",
       "      <td>4</td>\n",
       "      <td>90</td>\n",
       "      <td>70</td>\n",
       "      <td>1937</td>\n",
       "      <td>14.2</td>\n",
       "      <td>76</td>\n",
       "      <td>2</td>\n",
       "      <td>vw rabbit</td>\n",
       "      <td>NaN</td>\n",
       "      <td>NaN</td>\n",
       "      <td>NaN</td>\n",
       "      <td>NaN</td>\n",
       "      <td>NaN</td>\n",
       "    </tr>\n",
       "  </tbody>\n",
       "</table>\n",
       "</div>"
      ],
      "text/plain": [
       "      mpg  cylinders  displacement horsepower  weight  acceleration  model  \\\n",
       "193  24.0          6           200         81    3012          17.6     76   \n",
       "194  22.5          6           232         90    3085          17.6     76   \n",
       "195  29.0          4            85         52    2035          22.2     76   \n",
       "196  24.5          4            98         60    2164          22.1     76   \n",
       "197  29.0          4            90         70    1937          14.2     76   \n",
       "\n",
       "     origin                 car  Unnamed: 9  Unnamed: 10  Unnamed: 11  \\\n",
       "193       1       ford maverick         NaN          NaN          NaN   \n",
       "194       1          amc hornet         NaN          NaN          NaN   \n",
       "195       1  chevrolet chevette         NaN          NaN          NaN   \n",
       "196       1     chevrolet woody         NaN          NaN          NaN   \n",
       "197       2           vw rabbit         NaN          NaN          NaN   \n",
       "\n",
       "     Unnamed: 12  Unnamed: 13  \n",
       "193          NaN          NaN  \n",
       "194          NaN          NaN  \n",
       "195          NaN          NaN  \n",
       "196          NaN          NaN  \n",
       "197          NaN          NaN  "
      ]
     },
     "execution_count": 21,
     "metadata": {},
     "output_type": "execute_result"
    }
   ],
   "source": [
    "df.tail()"
   ]
  },
  {
   "cell_type": "code",
   "execution_count": 23,
   "id": "c22a6f85-ace3-46e2-abc3-c4115a47b062",
   "metadata": {},
   "outputs": [
    {
     "name": "stdout",
     "output_type": "stream",
     "text": [
      "<class 'pandas.core.frame.DataFrame'>\n",
      "RangeIndex: 198 entries, 0 to 197\n",
      "Data columns (total 14 columns):\n",
      " #   Column        Non-Null Count  Dtype  \n",
      "---  ------        --------------  -----  \n",
      " 0   mpg           198 non-null    float64\n",
      " 1   cylinders     198 non-null    int64  \n",
      " 2   displacement  198 non-null    int64  \n",
      " 3   horsepower    198 non-null    object \n",
      " 4   weight        198 non-null    int64  \n",
      " 5   acceleration  198 non-null    float64\n",
      " 6   model         198 non-null    int64  \n",
      " 7   origin        198 non-null    int64  \n",
      " 8   car           198 non-null    object \n",
      " 9   Unnamed: 9    0 non-null      float64\n",
      " 10  Unnamed: 10   0 non-null      float64\n",
      " 11  Unnamed: 11   0 non-null      float64\n",
      " 12  Unnamed: 12   0 non-null      float64\n",
      " 13  Unnamed: 13   0 non-null      float64\n",
      "dtypes: float64(7), int64(5), object(2)\n",
      "memory usage: 21.8+ KB\n"
     ]
    }
   ],
   "source": [
    "df.info()"
   ]
  },
  {
   "cell_type": "code",
   "execution_count": 24,
   "id": "d05517cd-2ef4-4ffe-a030-591f0176505d",
   "metadata": {},
   "outputs": [
    {
     "data": {
      "text/html": [
       "<div>\n",
       "<style scoped>\n",
       "    .dataframe tbody tr th:only-of-type {\n",
       "        vertical-align: middle;\n",
       "    }\n",
       "\n",
       "    .dataframe tbody tr th {\n",
       "        vertical-align: top;\n",
       "    }\n",
       "\n",
       "    .dataframe thead th {\n",
       "        text-align: right;\n",
       "    }\n",
       "</style>\n",
       "<table border=\"1\" class=\"dataframe\">\n",
       "  <thead>\n",
       "    <tr style=\"text-align: right;\">\n",
       "      <th></th>\n",
       "      <th>mpg</th>\n",
       "      <th>cylinders</th>\n",
       "      <th>displacement</th>\n",
       "      <th>weight</th>\n",
       "      <th>acceleration</th>\n",
       "      <th>model</th>\n",
       "      <th>origin</th>\n",
       "      <th>Unnamed: 9</th>\n",
       "      <th>Unnamed: 10</th>\n",
       "      <th>Unnamed: 11</th>\n",
       "      <th>Unnamed: 12</th>\n",
       "      <th>Unnamed: 13</th>\n",
       "    </tr>\n",
       "  </thead>\n",
       "  <tbody>\n",
       "    <tr>\n",
       "      <th>count</th>\n",
       "      <td>198.000000</td>\n",
       "      <td>198.000000</td>\n",
       "      <td>198.000000</td>\n",
       "      <td>198.000000</td>\n",
       "      <td>198.000000</td>\n",
       "      <td>198.000000</td>\n",
       "      <td>198.000000</td>\n",
       "      <td>0.0</td>\n",
       "      <td>0.0</td>\n",
       "      <td>0.0</td>\n",
       "      <td>0.0</td>\n",
       "      <td>0.0</td>\n",
       "    </tr>\n",
       "    <tr>\n",
       "      <th>mean</th>\n",
       "      <td>19.719697</td>\n",
       "      <td>5.898990</td>\n",
       "      <td>223.469697</td>\n",
       "      <td>3177.888889</td>\n",
       "      <td>15.005556</td>\n",
       "      <td>72.818182</td>\n",
       "      <td>1.439394</td>\n",
       "      <td>NaN</td>\n",
       "      <td>NaN</td>\n",
       "      <td>NaN</td>\n",
       "      <td>NaN</td>\n",
       "      <td>NaN</td>\n",
       "    </tr>\n",
       "    <tr>\n",
       "      <th>std</th>\n",
       "      <td>5.814254</td>\n",
       "      <td>1.785417</td>\n",
       "      <td>115.181017</td>\n",
       "      <td>934.783733</td>\n",
       "      <td>2.872382</td>\n",
       "      <td>1.865332</td>\n",
       "      <td>0.708085</td>\n",
       "      <td>NaN</td>\n",
       "      <td>NaN</td>\n",
       "      <td>NaN</td>\n",
       "      <td>NaN</td>\n",
       "      <td>NaN</td>\n",
       "    </tr>\n",
       "    <tr>\n",
       "      <th>min</th>\n",
       "      <td>9.000000</td>\n",
       "      <td>3.000000</td>\n",
       "      <td>68.000000</td>\n",
       "      <td>1613.000000</td>\n",
       "      <td>8.000000</td>\n",
       "      <td>70.000000</td>\n",
       "      <td>1.000000</td>\n",
       "      <td>NaN</td>\n",
       "      <td>NaN</td>\n",
       "      <td>NaN</td>\n",
       "      <td>NaN</td>\n",
       "      <td>NaN</td>\n",
       "    </tr>\n",
       "    <tr>\n",
       "      <th>25%</th>\n",
       "      <td>15.000000</td>\n",
       "      <td>4.000000</td>\n",
       "      <td>113.250000</td>\n",
       "      <td>2302.500000</td>\n",
       "      <td>13.000000</td>\n",
       "      <td>71.000000</td>\n",
       "      <td>1.000000</td>\n",
       "      <td>NaN</td>\n",
       "      <td>NaN</td>\n",
       "      <td>NaN</td>\n",
       "      <td>NaN</td>\n",
       "      <td>NaN</td>\n",
       "    </tr>\n",
       "    <tr>\n",
       "      <th>50%</th>\n",
       "      <td>19.000000</td>\n",
       "      <td>6.000000</td>\n",
       "      <td>228.000000</td>\n",
       "      <td>3030.000000</td>\n",
       "      <td>15.000000</td>\n",
       "      <td>73.000000</td>\n",
       "      <td>1.000000</td>\n",
       "      <td>NaN</td>\n",
       "      <td>NaN</td>\n",
       "      <td>NaN</td>\n",
       "      <td>NaN</td>\n",
       "      <td>NaN</td>\n",
       "    </tr>\n",
       "    <tr>\n",
       "      <th>75%</th>\n",
       "      <td>24.375000</td>\n",
       "      <td>8.000000</td>\n",
       "      <td>318.000000</td>\n",
       "      <td>4080.750000</td>\n",
       "      <td>16.800000</td>\n",
       "      <td>74.000000</td>\n",
       "      <td>2.000000</td>\n",
       "      <td>NaN</td>\n",
       "      <td>NaN</td>\n",
       "      <td>NaN</td>\n",
       "      <td>NaN</td>\n",
       "      <td>NaN</td>\n",
       "    </tr>\n",
       "    <tr>\n",
       "      <th>max</th>\n",
       "      <td>35.000000</td>\n",
       "      <td>8.000000</td>\n",
       "      <td>455.000000</td>\n",
       "      <td>5140.000000</td>\n",
       "      <td>23.500000</td>\n",
       "      <td>76.000000</td>\n",
       "      <td>3.000000</td>\n",
       "      <td>NaN</td>\n",
       "      <td>NaN</td>\n",
       "      <td>NaN</td>\n",
       "      <td>NaN</td>\n",
       "      <td>NaN</td>\n",
       "    </tr>\n",
       "  </tbody>\n",
       "</table>\n",
       "</div>"
      ],
      "text/plain": [
       "              mpg   cylinders  displacement       weight  acceleration  \\\n",
       "count  198.000000  198.000000    198.000000   198.000000    198.000000   \n",
       "mean    19.719697    5.898990    223.469697  3177.888889     15.005556   \n",
       "std      5.814254    1.785417    115.181017   934.783733      2.872382   \n",
       "min      9.000000    3.000000     68.000000  1613.000000      8.000000   \n",
       "25%     15.000000    4.000000    113.250000  2302.500000     13.000000   \n",
       "50%     19.000000    6.000000    228.000000  3030.000000     15.000000   \n",
       "75%     24.375000    8.000000    318.000000  4080.750000     16.800000   \n",
       "max     35.000000    8.000000    455.000000  5140.000000     23.500000   \n",
       "\n",
       "            model      origin  Unnamed: 9  Unnamed: 10  Unnamed: 11  \\\n",
       "count  198.000000  198.000000         0.0          0.0          0.0   \n",
       "mean    72.818182    1.439394         NaN          NaN          NaN   \n",
       "std      1.865332    0.708085         NaN          NaN          NaN   \n",
       "min     70.000000    1.000000         NaN          NaN          NaN   \n",
       "25%     71.000000    1.000000         NaN          NaN          NaN   \n",
       "50%     73.000000    1.000000         NaN          NaN          NaN   \n",
       "75%     74.000000    2.000000         NaN          NaN          NaN   \n",
       "max     76.000000    3.000000         NaN          NaN          NaN   \n",
       "\n",
       "       Unnamed: 12  Unnamed: 13  \n",
       "count          0.0          0.0  \n",
       "mean           NaN          NaN  \n",
       "std            NaN          NaN  \n",
       "min            NaN          NaN  \n",
       "25%            NaN          NaN  \n",
       "50%            NaN          NaN  \n",
       "75%            NaN          NaN  \n",
       "max            NaN          NaN  "
      ]
     },
     "execution_count": 24,
     "metadata": {},
     "output_type": "execute_result"
    }
   ],
   "source": [
    "df.describe()"
   ]
  },
  {
   "cell_type": "code",
   "execution_count": 25,
   "id": "f9768310-c1ec-4c53-9dcb-692a844a63ce",
   "metadata": {},
   "outputs": [
    {
     "ename": "TypeError",
     "evalue": "'tuple' object is not callable",
     "output_type": "error",
     "traceback": [
      "\u001b[31m---------------------------------------------------------------------------\u001b[39m",
      "\u001b[31mTypeError\u001b[39m                                 Traceback (most recent call last)",
      "\u001b[36mCell\u001b[39m\u001b[36m \u001b[39m\u001b[32mIn[25]\u001b[39m\u001b[32m, line 1\u001b[39m\n\u001b[32m----> \u001b[39m\u001b[32m1\u001b[39m \u001b[43mdf\u001b[49m\u001b[43m.\u001b[49m\u001b[43mshape\u001b[49m\u001b[43m(\u001b[49m\u001b[43m)\u001b[49m\n",
      "\u001b[31mTypeError\u001b[39m: 'tuple' object is not callable"
     ]
    }
   ],
   "source": [
    "# In pandas, shape is an attribute, not a method (function).\n",
    "df.shape()"
   ]
  },
  {
   "cell_type": "code",
   "execution_count": 27,
   "id": "869581f3-cc43-465e-a4dd-bb932f33d693",
   "metadata": {},
   "outputs": [
    {
     "data": {
      "text/plain": [
       "(198, 14)"
      ]
     },
     "execution_count": 27,
     "metadata": {},
     "output_type": "execute_result"
    }
   ],
   "source": [
    "df.shape"
   ]
  },
  {
   "cell_type": "code",
   "execution_count": 32,
   "id": "7decaa22-a81a-467f-83f2-a2d1b2f4edec",
   "metadata": {},
   "outputs": [
    {
     "name": "stdout",
     "output_type": "stream",
     "text": [
      "0      70\n",
      "1      70\n",
      "2      70\n",
      "3      70\n",
      "4      70\n",
      "       ..\n",
      "193    76\n",
      "194    76\n",
      "195    76\n",
      "196    76\n",
      "197    76\n",
      "Name: model, Length: 198, dtype: int64\n"
     ]
    }
   ],
   "source": [
    "column=df['model']\n",
    "print(column)"
   ]
  },
  {
   "cell_type": "code",
   "execution_count": 37,
   "id": "c9617853-5d8e-4642-a02c-c24cb00ce132",
   "metadata": {},
   "outputs": [
    {
     "name": "stdout",
     "output_type": "stream",
     "text": [
      "0      18.0\n",
      "1      15.0\n",
      "2      18.0\n",
      "3      16.0\n",
      "4      17.0\n",
      "       ... \n",
      "193    24.0\n",
      "194    22.5\n",
      "195    29.0\n",
      "196    24.5\n",
      "197    29.0\n",
      "Name: mpg, Length: 198, dtype: float64\n"
     ]
    }
   ],
   "source": [
    "# To access single columns\n",
    "colunms=df[\"mpg\"]\n",
    "print(colunms)"
   ]
  },
  {
   "cell_type": "code",
   "execution_count": 41,
   "id": "3ee8a800-7c2b-43e0-9b02-36e9503daa34",
   "metadata": {},
   "outputs": [
    {
     "name": "stdout",
     "output_type": "stream",
     "text": [
      "      mpg  cylinders  displacement horsepower  weight  acceleration  model  \\\n",
      "5    15.0          8           429        198    4341          10.0     70   \n",
      "6    14.0          8           454        220    4354           9.0     70   \n",
      "7    14.0          8           440        215    4312           8.5     70   \n",
      "8    14.0          8           455        225    4425          10.0     70   \n",
      "25   10.0          8           360        215    4615          14.0     70   \n",
      "26   10.0          8           307        200    4376          15.0     70   \n",
      "27   11.0          8           318        210    4382          13.5     70   \n",
      "28    9.0          8           304        193    4732          18.5     70   \n",
      "38   14.0          8           350        165    4209          12.0     71   \n",
      "39   14.0          8           400        175    4464          11.5     71   \n",
      "40   14.0          8           351        153    4154          13.5     71   \n",
      "41   14.0          8           318        150    4096          13.0     71   \n",
      "42   12.0          8           383        180    4955          11.5     71   \n",
      "43   13.0          8           400        170    4746          12.0     71   \n",
      "44   13.0          8           400        175    5140          12.0     71   \n",
      "62   13.0          8           350        165    4274          12.0     72   \n",
      "63   14.0          8           400        175    4385          12.0     72   \n",
      "64   15.0          8           318        150    4135          13.5     72   \n",
      "65   14.0          8           351        153    4129          13.0     72   \n",
      "67   11.0          8           429        208    4633          11.0     72   \n",
      "68   13.0          8           350        155    4502          13.5     72   \n",
      "69   12.0          8           350        160    4456          13.5     72   \n",
      "70   13.0          8           400        190    4422          12.5     72   \n",
      "73   13.0          8           307        130    4098          14.0     72   \n",
      "74   13.0          8           302        140    4294          16.0     72   \n",
      "75   14.0          8           318        150    4077          14.0     72   \n",
      "85   13.0          8           350        175    4100          13.0     73   \n",
      "88   14.0          8           302        137    4042          14.5     73   \n",
      "90   12.0          8           429        198    4952          11.5     73   \n",
      "91   13.0          8           400        150    4464          12.0     73   \n",
      "92   13.0          8           351        158    4363          13.0     73   \n",
      "93   14.0          8           318        150    4237          14.5     73   \n",
      "94   13.0          8           440        215    4735          11.0     73   \n",
      "95   12.0          8           455        225    4951          11.0     73   \n",
      "103  11.0          8           400        150    4997          14.0     73   \n",
      "104  12.0          8           400        167    4906          12.5     73   \n",
      "105  13.0          8           360        170    4654          13.0     73   \n",
      "106  12.0          8           350        180    4499          12.5     73   \n",
      "115  15.0          8           350        145    4082          13.0     73   \n",
      "116  16.0          8           400        230    4278           9.5     73   \n",
      "136  16.0          8           302        140    4141          14.0     74   \n",
      "137  13.0          8           350        150    4699          14.5     74   \n",
      "138  14.0          8           318        150    4457          13.5     74   \n",
      "139  14.0          8           302        140    4638          16.0     74   \n",
      "140  14.0          8           304        150    4257          15.5     74   \n",
      "156  16.0          8           400        170    4668          11.5     75   \n",
      "157  15.0          8           350        145    4440          14.0     75   \n",
      "158  16.0          8           318        150    4498          14.5     75   \n",
      "159  14.0          8           351        148    4657          13.5     75   \n",
      "187  17.5          8           305        140    4215          13.0     76   \n",
      "188  16.0          8           318        150    4190          13.0     76   \n",
      "190  14.5          8           351        152    4215          12.8     76   \n",
      "\n",
      "     origin                                car  Unnamed: 9  Unnamed: 10  \\\n",
      "5         1                   ford galaxie 500         NaN          NaN   \n",
      "6         1                   chevrolet impala         NaN          NaN   \n",
      "7         1                  plymouth fury iii         NaN          NaN   \n",
      "8         1                   pontiac catalina         NaN          NaN   \n",
      "25        1                          ford f250         NaN          NaN   \n",
      "26        1                          chevy c20         NaN          NaN   \n",
      "27        1                         dodge d200         NaN          NaN   \n",
      "28        1                           hi 1200d         NaN          NaN   \n",
      "38        1                   chevrolet impala         NaN          NaN   \n",
      "39        1          pontiac catalina brougham         NaN          NaN   \n",
      "40        1                   ford galaxie 500         NaN          NaN   \n",
      "41        1                  plymouth fury iii         NaN          NaN   \n",
      "42        1                  dodge monaco (sw)         NaN          NaN   \n",
      "43        1           ford country squire (sw)         NaN          NaN   \n",
      "44        1                pontiac safari (sw)         NaN          NaN   \n",
      "62        1                   chevrolet impala         NaN          NaN   \n",
      "63        1                   pontiac catalina         NaN          NaN   \n",
      "64        1                  plymouth fury iii         NaN          NaN   \n",
      "65        1                   ford galaxie 500         NaN          NaN   \n",
      "67        1                    mercury marquis         NaN          NaN   \n",
      "68        1               buick lesabre custom         NaN          NaN   \n",
      "69        1         oldsmobile delta 88 royale         NaN          NaN   \n",
      "70        1             chrysler newport royal         NaN          NaN   \n",
      "73        1   chevrolet chevelle concours (sw)         NaN          NaN   \n",
      "74        1              ford gran torino (sw)         NaN          NaN   \n",
      "75        1     plymouth satellite custom (sw)         NaN          NaN   \n",
      "85        1                  buick century 350         NaN          NaN   \n",
      "88        1                   ford gran torino         NaN          NaN   \n",
      "90        1           mercury marquis brougham         NaN          NaN   \n",
      "91        1          chevrolet caprice classic         NaN          NaN   \n",
      "92        1                           ford ltd         NaN          NaN   \n",
      "93        1           plymouth fury gran sedan         NaN          NaN   \n",
      "94        1       chrysler new yorker brougham         NaN          NaN   \n",
      "95        1           buick electra 225 custom         NaN          NaN   \n",
      "103       1                   chevrolet impala         NaN          NaN   \n",
      "104       1                       ford country         NaN          NaN   \n",
      "105       1             plymouth custom suburb         NaN          NaN   \n",
      "106       1           oldsmobile vista cruiser         NaN          NaN   \n",
      "115       1            chevrolet monte carlo s         NaN          NaN   \n",
      "116       1                 pontiac grand prix         NaN          NaN   \n",
      "136       1                   ford gran torino         NaN          NaN   \n",
      "137       1           buick century luxus (sw)         NaN          NaN   \n",
      "138       1          dodge coronet custom (sw)         NaN          NaN   \n",
      "139       1              ford gran torino (sw)         NaN          NaN   \n",
      "140       1                   amc matador (sw)         NaN          NaN   \n",
      "156       1                   pontiac catalina         NaN          NaN   \n",
      "157       1                  chevrolet bel air         NaN          NaN   \n",
      "158       1                plymouth grand fury         NaN          NaN   \n",
      "159       1                           ford ltd         NaN          NaN   \n",
      "187       1  chevrolet chevelle malibu classic         NaN          NaN   \n",
      "188       1             dodge coronet brougham         NaN          NaN   \n",
      "190       1                   ford gran torino         NaN          NaN   \n",
      "\n",
      "     Unnamed: 11  Unnamed: 12  Unnamed: 13  \n",
      "5            NaN          NaN          NaN  \n",
      "6            NaN          NaN          NaN  \n",
      "7            NaN          NaN          NaN  \n",
      "8            NaN          NaN          NaN  \n",
      "25           NaN          NaN          NaN  \n",
      "26           NaN          NaN          NaN  \n",
      "27           NaN          NaN          NaN  \n",
      "28           NaN          NaN          NaN  \n",
      "38           NaN          NaN          NaN  \n",
      "39           NaN          NaN          NaN  \n",
      "40           NaN          NaN          NaN  \n",
      "41           NaN          NaN          NaN  \n",
      "42           NaN          NaN          NaN  \n",
      "43           NaN          NaN          NaN  \n",
      "44           NaN          NaN          NaN  \n",
      "62           NaN          NaN          NaN  \n",
      "63           NaN          NaN          NaN  \n",
      "64           NaN          NaN          NaN  \n",
      "65           NaN          NaN          NaN  \n",
      "67           NaN          NaN          NaN  \n",
      "68           NaN          NaN          NaN  \n",
      "69           NaN          NaN          NaN  \n",
      "70           NaN          NaN          NaN  \n",
      "73           NaN          NaN          NaN  \n",
      "74           NaN          NaN          NaN  \n",
      "75           NaN          NaN          NaN  \n",
      "85           NaN          NaN          NaN  \n",
      "88           NaN          NaN          NaN  \n",
      "90           NaN          NaN          NaN  \n",
      "91           NaN          NaN          NaN  \n",
      "92           NaN          NaN          NaN  \n",
      "93           NaN          NaN          NaN  \n",
      "94           NaN          NaN          NaN  \n",
      "95           NaN          NaN          NaN  \n",
      "103          NaN          NaN          NaN  \n",
      "104          NaN          NaN          NaN  \n",
      "105          NaN          NaN          NaN  \n",
      "106          NaN          NaN          NaN  \n",
      "115          NaN          NaN          NaN  \n",
      "116          NaN          NaN          NaN  \n",
      "136          NaN          NaN          NaN  \n",
      "137          NaN          NaN          NaN  \n",
      "138          NaN          NaN          NaN  \n",
      "139          NaN          NaN          NaN  \n",
      "140          NaN          NaN          NaN  \n",
      "156          NaN          NaN          NaN  \n",
      "157          NaN          NaN          NaN  \n",
      "158          NaN          NaN          NaN  \n",
      "159          NaN          NaN          NaN  \n",
      "187          NaN          NaN          NaN  \n",
      "188          NaN          NaN          NaN  \n",
      "190          NaN          NaN          NaN  \n"
     ]
    }
   ],
   "source": [
    "filter_rows=df[(df['weight']>4000)]\n",
    "print(filter_rows)"
   ]
  },
  {
   "cell_type": "code",
   "execution_count": 43,
   "id": "991c034c-cebe-4846-8fd5-d94970a8569a",
   "metadata": {},
   "outputs": [
    {
     "name": "stdout",
     "output_type": "stream",
     "text": [
      "      mpg  cylinders  displacement horsepower  weight  acceleration  model  \\\n",
      "99   18.0          6           232        100    2945          16.0     73   \n",
      "101  23.0          6           198         95    2904          16.0     73   \n",
      "102  26.0          4            97         46    1950          21.0     73   \n",
      "107  18.0          6           232        100    2789          15.0     73   \n",
      "108  20.0          4            97         88    2279          19.0     73   \n",
      "109  21.0          4           140         72    2401          19.5     73   \n",
      "110  22.0          4           108         94    2379          16.5     73   \n",
      "111  18.0          3            70         90    2124          13.5     73   \n",
      "112  19.0          4           122         85    2310          18.5     73   \n",
      "113  21.0          6           155        107    2472          14.0     73   \n",
      "114  26.0          4            98         90    2265          15.5     73   \n",
      "117  29.0          4            68         49    1867          19.5     73   \n",
      "118  24.0          4           116         75    2158          15.5     73   \n",
      "119  20.0          4           114         91    2582          14.0     73   \n",
      "120  19.0          4           121        112    2868          15.5     73   \n",
      "122  24.0          4           121        110    2660          14.0     73   \n",
      "123  20.0          6           156        122    2807          13.5     73   \n",
      "126  21.0          6           200          ?    2875          17.0     74   \n",
      "127  19.0          6           232        100    2901          16.0     74   \n",
      "129  31.0          4            79         67    1950          19.0     74   \n",
      "130  26.0          4           122         80    2451          16.5     74   \n",
      "131  32.0          4            71         65    1836          21.0     74   \n",
      "132  25.0          4           140         75    2542          17.0     74   \n",
      "141  29.0          4            98         83    2219          16.5     74   \n",
      "142  26.0          4            79         67    1963          15.5     74   \n",
      "143  26.0          4            97         78    2300          14.5     74   \n",
      "144  31.0          4            76         52    1649          16.5     74   \n",
      "145  32.0          4            83         61    2003          19.0     74   \n",
      "146  28.0          4            90         75    2125          14.5     74   \n",
      "147  24.0          4            90         75    2108          15.5     74   \n",
      "148  26.0          4           116         75    2246          14.0     74   \n",
      "149  24.0          4           120         97    2489          15.0     74   \n",
      "150  26.0          4           108         93    2391          15.5     74   \n",
      "151  31.0          4            79         67    2000          16.0     74   \n",
      "167  29.0          4            97         75    2171          16.0     75   \n",
      "168  23.0          4           140         83    2639          17.0     75   \n",
      "169  20.0          6           232        100    2914          16.0     75   \n",
      "170  23.0          4           140         78    2592          18.5     75   \n",
      "171  24.0          4           134         96    2702          13.5     75   \n",
      "172  25.0          4            90         71    2223          16.5     75   \n",
      "173  24.0          4           119         97    2545          17.0     75   \n",
      "174  18.0          6           171         97    2984          14.5     75   \n",
      "175  29.0          4            90         70    1937          14.0     75   \n",
      "177  23.0          4           115         95    2694          15.0     75   \n",
      "178  23.0          4           120         88    2957          17.0     75   \n",
      "179  22.0          4           121         98    2945          14.5     75   \n",
      "180  25.0          4           121        115    2671          13.5     75   \n",
      "181  33.0          4            91         53    1795          17.5     75   \n",
      "182  28.0          4           107         86    2464          15.5     76   \n",
      "183  25.0          4           116         81    2220          16.9     76   \n",
      "184  25.0          4           140         92    2572          14.9     76   \n",
      "185  26.0          4            98         79    2255          17.7     76   \n",
      "186  27.0          4           101         83    2202          15.3     76   \n",
      "195  29.0          4            85         52    2035          22.2     76   \n",
      "196  24.5          4            98         60    2164          22.1     76   \n",
      "197  29.0          4            90         70    1937          14.2     76   \n",
      "\n",
      "     origin                      car  Unnamed: 9  Unnamed: 10  Unnamed: 11  \\\n",
      "99        1               amc hornet         NaN          NaN          NaN   \n",
      "101       1          plymouth duster         NaN          NaN          NaN   \n",
      "102       2  volkswagen super beetle         NaN          NaN          NaN   \n",
      "107       1              amc gremlin         NaN          NaN          NaN   \n",
      "108       3            toyota carina         NaN          NaN          NaN   \n",
      "109       1           chevrolet vega         NaN          NaN          NaN   \n",
      "110       3               datsun 610         NaN          NaN          NaN   \n",
      "111       3                maxda rx3         NaN          NaN          NaN   \n",
      "112       1               ford pinto         NaN          NaN          NaN   \n",
      "113       1         mercury capri v6         NaN          NaN          NaN   \n",
      "114       2     fiat 124 sport coupe         NaN          NaN          NaN   \n",
      "117       2                 fiat 128         NaN          NaN          NaN   \n",
      "118       2               opel manta         NaN          NaN          NaN   \n",
      "119       2               audi 100ls         NaN          NaN          NaN   \n",
      "120       2              volvo 144ea         NaN          NaN          NaN   \n",
      "122       2                saab 99le         NaN          NaN          NaN   \n",
      "123       3           toyota mark ii         NaN          NaN          NaN   \n",
      "126       1            ford maverick         NaN          NaN          NaN   \n",
      "127       1               amc hornet         NaN          NaN          NaN   \n",
      "129       3              datsun b210         NaN          NaN          NaN   \n",
      "130       1               ford pinto         NaN          NaN          NaN   \n",
      "131       3      toyota corolla 1200         NaN          NaN          NaN   \n",
      "132       1           chevrolet vega         NaN          NaN          NaN   \n",
      "141       2                 audi fox         NaN          NaN          NaN   \n",
      "142       2        volkswagen dasher         NaN          NaN          NaN   \n",
      "143       2               opel manta         NaN          NaN          NaN   \n",
      "144       3            toyota corona         NaN          NaN          NaN   \n",
      "145       3               datsun 710         NaN          NaN          NaN   \n",
      "146       1               dodge colt         NaN          NaN          NaN   \n",
      "147       2                 fiat 128         NaN          NaN          NaN   \n",
      "148       2              fiat 124 tc         NaN          NaN          NaN   \n",
      "149       3              honda civic         NaN          NaN          NaN   \n",
      "150       3                   subaru         NaN          NaN          NaN   \n",
      "151       2                fiat x1.9         NaN          NaN          NaN   \n",
      "167       3           toyota corolla         NaN          NaN          NaN   \n",
      "168       1               ford pinto         NaN          NaN          NaN   \n",
      "169       1              amc gremlin         NaN          NaN          NaN   \n",
      "170       1            pontiac astro         NaN          NaN          NaN   \n",
      "171       3            toyota corona         NaN          NaN          NaN   \n",
      "172       2        volkswagen dasher         NaN          NaN          NaN   \n",
      "173       3               datsun 710         NaN          NaN          NaN   \n",
      "174       1               ford pinto         NaN          NaN          NaN   \n",
      "175       2        volkswagen rabbit         NaN          NaN          NaN   \n",
      "177       2               audi 100ls         NaN          NaN          NaN   \n",
      "178       2              peugeot 504         NaN          NaN          NaN   \n",
      "179       2              volvo 244dl         NaN          NaN          NaN   \n",
      "180       2                saab 99le         NaN          NaN          NaN   \n",
      "181       3         honda civic cvcc         NaN          NaN          NaN   \n",
      "182       2                 fiat 131         NaN          NaN          NaN   \n",
      "183       2                opel 1900         NaN          NaN          NaN   \n",
      "184       1                 capri ii         NaN          NaN          NaN   \n",
      "185       1               dodge colt         NaN          NaN          NaN   \n",
      "186       2             renault 12tl         NaN          NaN          NaN   \n",
      "195       1       chevrolet chevette         NaN          NaN          NaN   \n",
      "196       1          chevrolet woody         NaN          NaN          NaN   \n",
      "197       2                vw rabbit         NaN          NaN          NaN   \n",
      "\n",
      "     Unnamed: 12  Unnamed: 13  \n",
      "99           NaN          NaN  \n",
      "101          NaN          NaN  \n",
      "102          NaN          NaN  \n",
      "107          NaN          NaN  \n",
      "108          NaN          NaN  \n",
      "109          NaN          NaN  \n",
      "110          NaN          NaN  \n",
      "111          NaN          NaN  \n",
      "112          NaN          NaN  \n",
      "113          NaN          NaN  \n",
      "114          NaN          NaN  \n",
      "117          NaN          NaN  \n",
      "118          NaN          NaN  \n",
      "119          NaN          NaN  \n",
      "120          NaN          NaN  \n",
      "122          NaN          NaN  \n",
      "123          NaN          NaN  \n",
      "126          NaN          NaN  \n",
      "127          NaN          NaN  \n",
      "129          NaN          NaN  \n",
      "130          NaN          NaN  \n",
      "131          NaN          NaN  \n",
      "132          NaN          NaN  \n",
      "141          NaN          NaN  \n",
      "142          NaN          NaN  \n",
      "143          NaN          NaN  \n",
      "144          NaN          NaN  \n",
      "145          NaN          NaN  \n",
      "146          NaN          NaN  \n",
      "147          NaN          NaN  \n",
      "148          NaN          NaN  \n",
      "149          NaN          NaN  \n",
      "150          NaN          NaN  \n",
      "151          NaN          NaN  \n",
      "167          NaN          NaN  \n",
      "168          NaN          NaN  \n",
      "169          NaN          NaN  \n",
      "170          NaN          NaN  \n",
      "171          NaN          NaN  \n",
      "172          NaN          NaN  \n",
      "173          NaN          NaN  \n",
      "174          NaN          NaN  \n",
      "175          NaN          NaN  \n",
      "177          NaN          NaN  \n",
      "178          NaN          NaN  \n",
      "179          NaN          NaN  \n",
      "180          NaN          NaN  \n",
      "181          NaN          NaN  \n",
      "182          NaN          NaN  \n",
      "183          NaN          NaN  \n",
      "184          NaN          NaN  \n",
      "185          NaN          NaN  \n",
      "186          NaN          NaN  \n",
      "195          NaN          NaN  \n",
      "196          NaN          NaN  \n",
      "197          NaN          NaN  \n"
     ]
    }
   ],
   "source": [
    "filter_rows_cond=df[(df['weight']<3000) & (df['model']>72)]\n",
    "print(filter_rows_cond)"
   ]
  },
  {
   "cell_type": "code",
   "execution_count": 63,
   "id": "0d4cb357-94fd-430b-956a-1736e3928f59",
   "metadata": {},
   "outputs": [
    {
     "name": "stdout",
     "output_type": "stream",
     "text": [
      "      mpg  cylinders  displacement horsepower  weight  acceleration  model  \\\n",
      "0    18.0          8         13333        130    3504          12.0     70   \n",
      "1    15.0          8           350        165    3693          11.5     70   \n",
      "2    18.0          8           318        150    3436          11.0     70   \n",
      "3    16.0          8           304        150    3433          12.0     70   \n",
      "4    17.0          8           302        140    3449          10.5     70   \n",
      "..    ...        ...           ...        ...     ...           ...    ...   \n",
      "193  24.0          6           200         81    3012          17.6     76   \n",
      "194  22.5          6           232         90    3085          17.6     76   \n",
      "195  29.0          4            85         52    2035          22.2     76   \n",
      "196  24.5          4            98         60    2164          22.1     76   \n",
      "197  29.0          4            90         70    1937          14.2     76   \n",
      "\n",
      "     origin                        car  Unnamed: 9  Unnamed: 10  Unnamed: 11  \\\n",
      "0         1  chevrolet chevelle malibu         NaN          NaN          NaN   \n",
      "1         1          buick skylark 320         NaN          NaN          NaN   \n",
      "2         1         plymouth satellite         NaN          NaN          NaN   \n",
      "3         1              amc rebel sst         NaN          NaN          NaN   \n",
      "4         1                ford torino         NaN          NaN          NaN   \n",
      "..      ...                        ...         ...          ...          ...   \n",
      "193       1              ford maverick         NaN          NaN          NaN   \n",
      "194       1                 amc hornet         NaN          NaN          NaN   \n",
      "195       1         chevrolet chevette         NaN          NaN          NaN   \n",
      "196       1            chevrolet woody         NaN          NaN          NaN   \n",
      "197       2                  vw rabbit         NaN          NaN          NaN   \n",
      "\n",
      "     Unnamed: 12  Unnamed: 13  max_weight  \n",
      "0            NaN          NaN     3679.20  \n",
      "1            NaN          NaN     3877.65  \n",
      "2            NaN          NaN     3607.80  \n",
      "3            NaN          NaN     3604.65  \n",
      "4            NaN          NaN     3621.45  \n",
      "..           ...          ...         ...  \n",
      "193          NaN          NaN     3162.60  \n",
      "194          NaN          NaN     3239.25  \n",
      "195          NaN          NaN     2136.75  \n",
      "196          NaN          NaN     2272.20  \n",
      "197          NaN          NaN     2033.85  \n",
      "\n",
      "[198 rows x 15 columns]\n"
     ]
    }
   ],
   "source": [
    "df['max_weight']=df['weight']*1.05\n",
    "print(df)"
   ]
  },
  {
   "cell_type": "code",
   "execution_count": 53,
   "id": "18fead92-99cd-4a82-9510-b6a78f676c62",
   "metadata": {},
   "outputs": [
    {
     "ename": "ValueError",
     "evalue": "Length of values (9) does not match length of index (198)",
     "output_type": "error",
     "traceback": [
      "\u001b[31m---------------------------------------------------------------------------\u001b[39m",
      "\u001b[31mValueError\u001b[39m                                Traceback (most recent call last)",
      "\u001b[36mCell\u001b[39m\u001b[36m \u001b[39m\u001b[32mIn[53]\u001b[39m\u001b[32m, line 1\u001b[39m\n\u001b[32m----> \u001b[39m\u001b[32m1\u001b[39m \u001b[43mdf\u001b[49m\u001b[43m.\u001b[49m\u001b[43minsert\u001b[49m\u001b[43m(\u001b[49m\u001b[32;43m4\u001b[39;49m\u001b[43m,\u001b[49m\u001b[33;43m'\u001b[39;49m\u001b[33;43mMax_weight\u001b[39;49m\u001b[33;43m'\u001b[39;49m\u001b[43m,\u001b[49m\u001b[43m[\u001b[49m\u001b[32;43m1\u001b[39;49m\u001b[43m,\u001b[49m\u001b[32;43m2\u001b[39;49m\u001b[43m,\u001b[49m\u001b[32;43m3\u001b[39;49m\u001b[43m,\u001b[49m\u001b[32;43m4\u001b[39;49m\u001b[43m,\u001b[49m\u001b[32;43m5\u001b[39;49m\u001b[43m,\u001b[49m\u001b[32;43m6\u001b[39;49m\u001b[43m,\u001b[49m\u001b[32;43m7\u001b[39;49m\u001b[43m,\u001b[49m\u001b[32;43m89\u001b[39;49m\u001b[43m,\u001b[49m\u001b[32;43m7\u001b[39;49m\u001b[43m]\u001b[49m\u001b[43m)\u001b[49m\n",
      "\u001b[36mFile \u001b[39m\u001b[32mC:\\ProgramData\\anaconda3\\Lib\\site-packages\\pandas\\core\\frame.py:5171\u001b[39m, in \u001b[36mDataFrame.insert\u001b[39m\u001b[34m(self, loc, column, value, allow_duplicates)\u001b[39m\n\u001b[32m   5168\u001b[39m \u001b[38;5;28;01melif\u001b[39;00m \u001b[38;5;28misinstance\u001b[39m(value, DataFrame):\n\u001b[32m   5169\u001b[39m     value = value.iloc[:, \u001b[32m0\u001b[39m]\n\u001b[32m-> \u001b[39m\u001b[32m5171\u001b[39m value, refs = \u001b[38;5;28;43mself\u001b[39;49m\u001b[43m.\u001b[49m\u001b[43m_sanitize_column\u001b[49m\u001b[43m(\u001b[49m\u001b[43mvalue\u001b[49m\u001b[43m)\u001b[49m\n\u001b[32m   5172\u001b[39m \u001b[38;5;28mself\u001b[39m._mgr.insert(loc, column, value, refs=refs)\n",
      "\u001b[36mFile \u001b[39m\u001b[32mC:\\ProgramData\\anaconda3\\Lib\\site-packages\\pandas\\core\\frame.py:5266\u001b[39m, in \u001b[36mDataFrame._sanitize_column\u001b[39m\u001b[34m(self, value)\u001b[39m\n\u001b[32m   5263\u001b[39m     \u001b[38;5;28;01mreturn\u001b[39;00m _reindex_for_setitem(value, \u001b[38;5;28mself\u001b[39m.index)\n\u001b[32m   5265\u001b[39m \u001b[38;5;28;01mif\u001b[39;00m is_list_like(value):\n\u001b[32m-> \u001b[39m\u001b[32m5266\u001b[39m     \u001b[43mcom\u001b[49m\u001b[43m.\u001b[49m\u001b[43mrequire_length_match\u001b[49m\u001b[43m(\u001b[49m\u001b[43mvalue\u001b[49m\u001b[43m,\u001b[49m\u001b[43m \u001b[49m\u001b[38;5;28;43mself\u001b[39;49m\u001b[43m.\u001b[49m\u001b[43mindex\u001b[49m\u001b[43m)\u001b[49m\n\u001b[32m   5267\u001b[39m arr = sanitize_array(value, \u001b[38;5;28mself\u001b[39m.index, copy=\u001b[38;5;28;01mTrue\u001b[39;00m, allow_2d=\u001b[38;5;28;01mTrue\u001b[39;00m)\n\u001b[32m   5268\u001b[39m \u001b[38;5;28;01mif\u001b[39;00m (\n\u001b[32m   5269\u001b[39m     \u001b[38;5;28misinstance\u001b[39m(value, Index)\n\u001b[32m   5270\u001b[39m     \u001b[38;5;129;01mand\u001b[39;00m value.dtype == \u001b[33m\"\u001b[39m\u001b[33mobject\u001b[39m\u001b[33m\"\u001b[39m\n\u001b[32m   (...)\u001b[39m\u001b[32m   5273\u001b[39m     \u001b[38;5;66;03m# TODO: Remove kludge in sanitize_array for string mode when enforcing\u001b[39;00m\n\u001b[32m   5274\u001b[39m     \u001b[38;5;66;03m# this deprecation\u001b[39;00m\n",
      "\u001b[36mFile \u001b[39m\u001b[32mC:\\ProgramData\\anaconda3\\Lib\\site-packages\\pandas\\core\\common.py:573\u001b[39m, in \u001b[36mrequire_length_match\u001b[39m\u001b[34m(data, index)\u001b[39m\n\u001b[32m    569\u001b[39m \u001b[38;5;250m\u001b[39m\u001b[33;03m\"\"\"\u001b[39;00m\n\u001b[32m    570\u001b[39m \u001b[33;03mCheck the length of data matches the length of the index.\u001b[39;00m\n\u001b[32m    571\u001b[39m \u001b[33;03m\"\"\"\u001b[39;00m\n\u001b[32m    572\u001b[39m \u001b[38;5;28;01mif\u001b[39;00m \u001b[38;5;28mlen\u001b[39m(data) != \u001b[38;5;28mlen\u001b[39m(index):\n\u001b[32m--> \u001b[39m\u001b[32m573\u001b[39m     \u001b[38;5;28;01mraise\u001b[39;00m \u001b[38;5;167;01mValueError\u001b[39;00m(\n\u001b[32m    574\u001b[39m         \u001b[33m\"\u001b[39m\u001b[33mLength of values \u001b[39m\u001b[33m\"\u001b[39m\n\u001b[32m    575\u001b[39m         \u001b[33mf\u001b[39m\u001b[33m\"\u001b[39m\u001b[33m(\u001b[39m\u001b[38;5;132;01m{\u001b[39;00m\u001b[38;5;28mlen\u001b[39m(data)\u001b[38;5;132;01m}\u001b[39;00m\u001b[33m) \u001b[39m\u001b[33m\"\u001b[39m\n\u001b[32m    576\u001b[39m         \u001b[33m\"\u001b[39m\u001b[33mdoes not match length of index \u001b[39m\u001b[33m\"\u001b[39m\n\u001b[32m    577\u001b[39m         \u001b[33mf\u001b[39m\u001b[33m\"\u001b[39m\u001b[33m(\u001b[39m\u001b[38;5;132;01m{\u001b[39;00m\u001b[38;5;28mlen\u001b[39m(index)\u001b[38;5;132;01m}\u001b[39;00m\u001b[33m)\u001b[39m\u001b[33m\"\u001b[39m\n\u001b[32m    578\u001b[39m     )\n",
      "\u001b[31mValueError\u001b[39m: Length of values (9) does not match length of index (198)"
     ]
    }
   ],
   "source": [
    "# adding columns\n",
    "df.insert(4,'Max_weight',[1,2,3,4,5,6,7,89,7])"
   ]
  },
  {
   "cell_type": "code",
   "execution_count": 56,
   "id": "405a8a3c-2b88-4993-a47f-47734f7d2354",
   "metadata": {},
   "outputs": [
    {
     "name": "stdout",
     "output_type": "stream",
     "text": [
      "      mpg  cylinders  displacement horsepower  weight  acceleration  model  \\\n",
      "0    18.0          8         13333        130    3504          12.0     70   \n",
      "1    15.0          8           350        165    3693          11.5     70   \n",
      "2    18.0          8           318        150    3436          11.0     70   \n",
      "3    16.0          8           304        150    3433          12.0     70   \n",
      "4    17.0          8           302        140    3449          10.5     70   \n",
      "..    ...        ...           ...        ...     ...           ...    ...   \n",
      "193  24.0          6           200         81    3012          17.6     76   \n",
      "194  22.5          6           232         90    3085          17.6     76   \n",
      "195  29.0          4            85         52    2035          22.2     76   \n",
      "196  24.5          4            98         60    2164          22.1     76   \n",
      "197  29.0          4            90         70    1937          14.2     76   \n",
      "\n",
      "     origin                        car  Unnamed: 9  Unnamed: 10  Unnamed: 11  \\\n",
      "0         1  chevrolet chevelle malibu         NaN          NaN          NaN   \n",
      "1         1          buick skylark 320         NaN          NaN          NaN   \n",
      "2         1         plymouth satellite         NaN          NaN          NaN   \n",
      "3         1              amc rebel sst         NaN          NaN          NaN   \n",
      "4         1                ford torino         NaN          NaN          NaN   \n",
      "..      ...                        ...         ...          ...          ...   \n",
      "193       1              ford maverick         NaN          NaN          NaN   \n",
      "194       1                 amc hornet         NaN          NaN          NaN   \n",
      "195       1         chevrolet chevette         NaN          NaN          NaN   \n",
      "196       1            chevrolet woody         NaN          NaN          NaN   \n",
      "197       2                  vw rabbit         NaN          NaN          NaN   \n",
      "\n",
      "     Unnamed: 12  Unnamed: 13  max_weight  \n",
      "0            NaN          NaN      1752.0  \n",
      "1            NaN          NaN      1846.5  \n",
      "2            NaN          NaN      1718.0  \n",
      "3            NaN          NaN      1716.5  \n",
      "4            NaN          NaN      1724.5  \n",
      "..           ...          ...         ...  \n",
      "193          NaN          NaN      1506.0  \n",
      "194          NaN          NaN      1542.5  \n",
      "195          NaN          NaN      1017.5  \n",
      "196          NaN          NaN      1082.0  \n",
      "197          NaN          NaN       968.5  \n",
      "\n",
      "[198 rows x 15 columns]\n"
     ]
    }
   ],
   "source": [
    "# updating particular columns with index no..\n",
    "df.loc[0,'displacement']=13333\n",
    "print(df) #show always raw text(no styling)"
   ]
  },
  {
   "cell_type": "code",
   "execution_count": 66,
   "id": "fbeec99c-2ae5-45cd-8050-d540d9cd0159",
   "metadata": {},
   "outputs": [
    {
     "name": "stdout",
     "output_type": "stream",
     "text": [
      "      mpg  cylinders  displacement horsepower     weight  acceleration  model  \\\n",
      "0    18.0          8         13333        130  3863.1600          12.0     70   \n",
      "1    15.0          8           350        165  4071.5325          11.5     70   \n",
      "2    18.0          8           318        150  3788.1900          11.0     70   \n",
      "3    16.0          8           304        150  3784.8825          12.0     70   \n",
      "4    17.0          8           302        140  3802.5225          10.5     70   \n",
      "..    ...        ...           ...        ...        ...           ...    ...   \n",
      "193  24.0          6           200         81  3320.7300          17.6     76   \n",
      "194  22.5          6           232         90  3401.2125          17.6     76   \n",
      "195  29.0          4            85         52  2243.5875          22.2     76   \n",
      "196  24.5          4            98         60  2385.8100          22.1     76   \n",
      "197  29.0          4            90         70  2135.5425          14.2     76   \n",
      "\n",
      "     origin                        car  Unnamed: 9  Unnamed: 10  Unnamed: 11  \\\n",
      "0         1  chevrolet chevelle malibu         NaN          NaN          NaN   \n",
      "1         1          buick skylark 320         NaN          NaN          NaN   \n",
      "2         1         plymouth satellite         NaN          NaN          NaN   \n",
      "3         1              amc rebel sst         NaN          NaN          NaN   \n",
      "4         1                ford torino         NaN          NaN          NaN   \n",
      "..      ...                        ...         ...          ...          ...   \n",
      "193       1              ford maverick         NaN          NaN          NaN   \n",
      "194       1                 amc hornet         NaN          NaN          NaN   \n",
      "195       1         chevrolet chevette         NaN          NaN          NaN   \n",
      "196       1            chevrolet woody         NaN          NaN          NaN   \n",
      "197       2                  vw rabbit         NaN          NaN          NaN   \n",
      "\n",
      "     Unnamed: 12  Unnamed: 13  max_weight  \n",
      "0            NaN          NaN     3679.20  \n",
      "1            NaN          NaN     3877.65  \n",
      "2            NaN          NaN     3607.80  \n",
      "3            NaN          NaN     3604.65  \n",
      "4            NaN          NaN     3621.45  \n",
      "..           ...          ...         ...  \n",
      "193          NaN          NaN     3162.60  \n",
      "194          NaN          NaN     3239.25  \n",
      "195          NaN          NaN     2136.75  \n",
      "196          NaN          NaN     2272.20  \n",
      "197          NaN          NaN     2033.85  \n",
      "\n",
      "[198 rows x 15 columns]\n"
     ]
    }
   ],
   "source": [
    "# updationg all columns's data\n",
    "df['weight']=df['weight']*1.05\n",
    "print(df)"
   ]
  },
  {
   "cell_type": "code",
   "execution_count": 72,
   "id": "99bbb3ca-d547-4b1d-a304-b9c998b98b5b",
   "metadata": {},
   "outputs": [
    {
     "name": "stdout",
     "output_type": "stream",
     "text": [
      "      mpg  cylinders  displacement horsepower  acceleration  origin  \\\n",
      "0    18.0          8         13333        130          12.0       1   \n",
      "1    15.0          8           350        165          11.5       1   \n",
      "2    18.0          8           318        150          11.0       1   \n",
      "3    16.0          8           304        150          12.0       1   \n",
      "4    17.0          8           302        140          10.5       1   \n",
      "..    ...        ...           ...        ...           ...     ...   \n",
      "193  24.0          6           200         81          17.6       1   \n",
      "194  22.5          6           232         90          17.6       1   \n",
      "195  29.0          4            85         52          22.2       1   \n",
      "196  24.5          4            98         60          22.1       1   \n",
      "197  29.0          4            90         70          14.2       2   \n",
      "\n",
      "                           car  Unnamed: 9  Unnamed: 10  Unnamed: 11  \\\n",
      "0    chevrolet chevelle malibu         NaN          NaN          NaN   \n",
      "1            buick skylark 320         NaN          NaN          NaN   \n",
      "2           plymouth satellite         NaN          NaN          NaN   \n",
      "3                amc rebel sst         NaN          NaN          NaN   \n",
      "4                  ford torino         NaN          NaN          NaN   \n",
      "..                         ...         ...          ...          ...   \n",
      "193              ford maverick         NaN          NaN          NaN   \n",
      "194                 amc hornet         NaN          NaN          NaN   \n",
      "195         chevrolet chevette         NaN          NaN          NaN   \n",
      "196            chevrolet woody         NaN          NaN          NaN   \n",
      "197                  vw rabbit         NaN          NaN          NaN   \n",
      "\n",
      "     Unnamed: 12  Unnamed: 13  \n",
      "0            NaN          NaN  \n",
      "1            NaN          NaN  \n",
      "2            NaN          NaN  \n",
      "3            NaN          NaN  \n",
      "4            NaN          NaN  \n",
      "..           ...          ...  \n",
      "193          NaN          NaN  \n",
      "194          NaN          NaN  \n",
      "195          NaN          NaN  \n",
      "196          NaN          NaN  \n",
      "197          NaN          NaN  \n",
      "\n",
      "[198 rows x 12 columns]\n"
     ]
    }
   ],
   "source": [
    "# removing columns\n",
    "df.drop(columns=['model'],inplace=True)\n",
    "print(df)"
   ]
  },
  {
   "cell_type": "code",
   "execution_count": 75,
   "id": "b9cb25e2-ae3e-404d-966a-60c6582fe93e",
   "metadata": {},
   "outputs": [
    {
     "name": "stdout",
     "output_type": "stream",
     "text": [
      "     cylinders  acceleration                        car  Unnamed: 9  \\\n",
      "0            8          12.0  chevrolet chevelle malibu         NaN   \n",
      "1            8          11.5          buick skylark 320         NaN   \n",
      "2            8          11.0         plymouth satellite         NaN   \n",
      "3            8          12.0              amc rebel sst         NaN   \n",
      "4            8          10.5                ford torino         NaN   \n",
      "..         ...           ...                        ...         ...   \n",
      "193          6          17.6              ford maverick         NaN   \n",
      "194          6          17.6                 amc hornet         NaN   \n",
      "195          4          22.2         chevrolet chevette         NaN   \n",
      "196          4          22.1            chevrolet woody         NaN   \n",
      "197          4          14.2                  vw rabbit         NaN   \n",
      "\n",
      "     Unnamed: 10  Unnamed: 11  Unnamed: 12  Unnamed: 13  \n",
      "0            NaN          NaN          NaN          NaN  \n",
      "1            NaN          NaN          NaN          NaN  \n",
      "2            NaN          NaN          NaN          NaN  \n",
      "3            NaN          NaN          NaN          NaN  \n",
      "4            NaN          NaN          NaN          NaN  \n",
      "..           ...          ...          ...          ...  \n",
      "193          NaN          NaN          NaN          NaN  \n",
      "194          NaN          NaN          NaN          NaN  \n",
      "195          NaN          NaN          NaN          NaN  \n",
      "196          NaN          NaN          NaN          NaN  \n",
      "197          NaN          NaN          NaN          NaN  \n",
      "\n",
      "[198 rows x 8 columns]\n"
     ]
    }
   ],
   "source": [
    "# removing multiple columns\n",
    "df.drop(columns=['displacement','horsepower'],inplace=True)\n",
    "print(df)"
   ]
  },
  {
   "cell_type": "code",
   "execution_count": 76,
   "id": "24efab00-fe48-4e54-a30e-79eea17b3e3b",
   "metadata": {},
   "outputs": [
    {
     "name": "stdout",
     "output_type": "stream",
     "text": [
      "     cylinders  acceleration    car  Unnamed: 9  Unnamed: 10  Unnamed: 11  \\\n",
      "0        False         False  False        True         True         True   \n",
      "1        False         False  False        True         True         True   \n",
      "2        False         False  False        True         True         True   \n",
      "3        False         False  False        True         True         True   \n",
      "4        False         False  False        True         True         True   \n",
      "..         ...           ...    ...         ...          ...          ...   \n",
      "193      False         False  False        True         True         True   \n",
      "194      False         False  False        True         True         True   \n",
      "195      False         False  False        True         True         True   \n",
      "196      False         False  False        True         True         True   \n",
      "197      False         False  False        True         True         True   \n",
      "\n",
      "     Unnamed: 12  Unnamed: 13  \n",
      "0           True         True  \n",
      "1           True         True  \n",
      "2           True         True  \n",
      "3           True         True  \n",
      "4           True         True  \n",
      "..           ...          ...  \n",
      "193         True         True  \n",
      "194         True         True  \n",
      "195         True         True  \n",
      "196         True         True  \n",
      "197         True         True  \n",
      "\n",
      "[198 rows x 8 columns]\n"
     ]
    }
   ],
   "source": [
    "print(df.isnull())"
   ]
  },
  {
   "cell_type": "code",
   "execution_count": 77,
   "id": "f49291ef-6bc6-4423-be15-82ac086c88f9",
   "metadata": {},
   "outputs": [
    {
     "name": "stdout",
     "output_type": "stream",
     "text": [
      "cylinders         0\n",
      "acceleration      0\n",
      "car               0\n",
      "Unnamed: 9      198\n",
      "Unnamed: 10     198\n",
      "Unnamed: 11     198\n",
      "Unnamed: 12     198\n",
      "Unnamed: 13     198\n",
      "dtype: int64\n"
     ]
    }
   ],
   "source": [
    "print(df.isnull().sum())"
   ]
  },
  {
   "cell_type": "code",
   "execution_count": 81,
   "id": "1e36e4c7-a422-42ab-a7b4-f4a57515edcb",
   "metadata": {},
   "outputs": [
    {
     "name": "stdout",
     "output_type": "stream",
     "text": [
      "     cylinders  acceleration                        car\n",
      "0            8          12.0  chevrolet chevelle malibu\n",
      "1            8          11.5          buick skylark 320\n",
      "2            8          11.0         plymouth satellite\n",
      "3            8          12.0              amc rebel sst\n",
      "4            8          10.5                ford torino\n",
      "..         ...           ...                        ...\n",
      "193          6          17.6              ford maverick\n",
      "194          6          17.6                 amc hornet\n",
      "195          4          22.2         chevrolet chevette\n",
      "196          4          22.1            chevrolet woody\n",
      "197          4          14.2                  vw rabbit\n",
      "\n",
      "[198 rows x 3 columns]\n"
     ]
    }
   ],
   "source": [
    "# Handling missing data \n",
    "df.dropna(axis=1,inplace=True)\n",
    "print(df)"
   ]
  },
  {
   "cell_type": "code",
   "execution_count": 83,
   "id": "2d80079c-8da1-4d6a-9c83-6939a7c574c4",
   "metadata": {},
   "outputs": [],
   "source": [
    "df=pd.read_csv(\"D:/Ad_py_lib.csv/pandas_and_numpy/cars1.csv\")"
   ]
  },
  {
   "cell_type": "code",
   "execution_count": 84,
   "id": "5da0ace5-15c6-4e43-8fe3-fb05244819a8",
   "metadata": {},
   "outputs": [
    {
     "data": {
      "text/html": [
       "<div>\n",
       "<style scoped>\n",
       "    .dataframe tbody tr th:only-of-type {\n",
       "        vertical-align: middle;\n",
       "    }\n",
       "\n",
       "    .dataframe tbody tr th {\n",
       "        vertical-align: top;\n",
       "    }\n",
       "\n",
       "    .dataframe thead th {\n",
       "        text-align: right;\n",
       "    }\n",
       "</style>\n",
       "<table border=\"1\" class=\"dataframe\">\n",
       "  <thead>\n",
       "    <tr style=\"text-align: right;\">\n",
       "      <th></th>\n",
       "      <th>mpg</th>\n",
       "      <th>cylinders</th>\n",
       "      <th>displacement</th>\n",
       "      <th>horsepower</th>\n",
       "      <th>weight</th>\n",
       "      <th>acceleration</th>\n",
       "      <th>model</th>\n",
       "      <th>origin</th>\n",
       "      <th>car</th>\n",
       "      <th>Unnamed: 9</th>\n",
       "      <th>Unnamed: 10</th>\n",
       "      <th>Unnamed: 11</th>\n",
       "      <th>Unnamed: 12</th>\n",
       "      <th>Unnamed: 13</th>\n",
       "    </tr>\n",
       "  </thead>\n",
       "  <tbody>\n",
       "    <tr>\n",
       "      <th>0</th>\n",
       "      <td>18.0</td>\n",
       "      <td>8</td>\n",
       "      <td>307</td>\n",
       "      <td>130</td>\n",
       "      <td>3504</td>\n",
       "      <td>12.0</td>\n",
       "      <td>70</td>\n",
       "      <td>1</td>\n",
       "      <td>chevrolet chevelle malibu</td>\n",
       "      <td>NaN</td>\n",
       "      <td>NaN</td>\n",
       "      <td>NaN</td>\n",
       "      <td>NaN</td>\n",
       "      <td>NaN</td>\n",
       "    </tr>\n",
       "    <tr>\n",
       "      <th>1</th>\n",
       "      <td>15.0</td>\n",
       "      <td>8</td>\n",
       "      <td>350</td>\n",
       "      <td>165</td>\n",
       "      <td>3693</td>\n",
       "      <td>11.5</td>\n",
       "      <td>70</td>\n",
       "      <td>1</td>\n",
       "      <td>buick skylark 320</td>\n",
       "      <td>NaN</td>\n",
       "      <td>NaN</td>\n",
       "      <td>NaN</td>\n",
       "      <td>NaN</td>\n",
       "      <td>NaN</td>\n",
       "    </tr>\n",
       "    <tr>\n",
       "      <th>2</th>\n",
       "      <td>18.0</td>\n",
       "      <td>8</td>\n",
       "      <td>318</td>\n",
       "      <td>150</td>\n",
       "      <td>3436</td>\n",
       "      <td>11.0</td>\n",
       "      <td>70</td>\n",
       "      <td>1</td>\n",
       "      <td>plymouth satellite</td>\n",
       "      <td>NaN</td>\n",
       "      <td>NaN</td>\n",
       "      <td>NaN</td>\n",
       "      <td>NaN</td>\n",
       "      <td>NaN</td>\n",
       "    </tr>\n",
       "    <tr>\n",
       "      <th>3</th>\n",
       "      <td>16.0</td>\n",
       "      <td>8</td>\n",
       "      <td>304</td>\n",
       "      <td>150</td>\n",
       "      <td>3433</td>\n",
       "      <td>12.0</td>\n",
       "      <td>70</td>\n",
       "      <td>1</td>\n",
       "      <td>amc rebel sst</td>\n",
       "      <td>NaN</td>\n",
       "      <td>NaN</td>\n",
       "      <td>NaN</td>\n",
       "      <td>NaN</td>\n",
       "      <td>NaN</td>\n",
       "    </tr>\n",
       "    <tr>\n",
       "      <th>4</th>\n",
       "      <td>17.0</td>\n",
       "      <td>8</td>\n",
       "      <td>302</td>\n",
       "      <td>140</td>\n",
       "      <td>3449</td>\n",
       "      <td>10.5</td>\n",
       "      <td>70</td>\n",
       "      <td>1</td>\n",
       "      <td>ford torino</td>\n",
       "      <td>NaN</td>\n",
       "      <td>NaN</td>\n",
       "      <td>NaN</td>\n",
       "      <td>NaN</td>\n",
       "      <td>NaN</td>\n",
       "    </tr>\n",
       "    <tr>\n",
       "      <th>...</th>\n",
       "      <td>...</td>\n",
       "      <td>...</td>\n",
       "      <td>...</td>\n",
       "      <td>...</td>\n",
       "      <td>...</td>\n",
       "      <td>...</td>\n",
       "      <td>...</td>\n",
       "      <td>...</td>\n",
       "      <td>...</td>\n",
       "      <td>...</td>\n",
       "      <td>...</td>\n",
       "      <td>...</td>\n",
       "      <td>...</td>\n",
       "      <td>...</td>\n",
       "    </tr>\n",
       "    <tr>\n",
       "      <th>193</th>\n",
       "      <td>24.0</td>\n",
       "      <td>6</td>\n",
       "      <td>200</td>\n",
       "      <td>81</td>\n",
       "      <td>3012</td>\n",
       "      <td>17.6</td>\n",
       "      <td>76</td>\n",
       "      <td>1</td>\n",
       "      <td>ford maverick</td>\n",
       "      <td>NaN</td>\n",
       "      <td>NaN</td>\n",
       "      <td>NaN</td>\n",
       "      <td>NaN</td>\n",
       "      <td>NaN</td>\n",
       "    </tr>\n",
       "    <tr>\n",
       "      <th>194</th>\n",
       "      <td>22.5</td>\n",
       "      <td>6</td>\n",
       "      <td>232</td>\n",
       "      <td>90</td>\n",
       "      <td>3085</td>\n",
       "      <td>17.6</td>\n",
       "      <td>76</td>\n",
       "      <td>1</td>\n",
       "      <td>amc hornet</td>\n",
       "      <td>NaN</td>\n",
       "      <td>NaN</td>\n",
       "      <td>NaN</td>\n",
       "      <td>NaN</td>\n",
       "      <td>NaN</td>\n",
       "    </tr>\n",
       "    <tr>\n",
       "      <th>195</th>\n",
       "      <td>29.0</td>\n",
       "      <td>4</td>\n",
       "      <td>85</td>\n",
       "      <td>52</td>\n",
       "      <td>2035</td>\n",
       "      <td>22.2</td>\n",
       "      <td>76</td>\n",
       "      <td>1</td>\n",
       "      <td>chevrolet chevette</td>\n",
       "      <td>NaN</td>\n",
       "      <td>NaN</td>\n",
       "      <td>NaN</td>\n",
       "      <td>NaN</td>\n",
       "      <td>NaN</td>\n",
       "    </tr>\n",
       "    <tr>\n",
       "      <th>196</th>\n",
       "      <td>24.5</td>\n",
       "      <td>4</td>\n",
       "      <td>98</td>\n",
       "      <td>60</td>\n",
       "      <td>2164</td>\n",
       "      <td>22.1</td>\n",
       "      <td>76</td>\n",
       "      <td>1</td>\n",
       "      <td>chevrolet woody</td>\n",
       "      <td>NaN</td>\n",
       "      <td>NaN</td>\n",
       "      <td>NaN</td>\n",
       "      <td>NaN</td>\n",
       "      <td>NaN</td>\n",
       "    </tr>\n",
       "    <tr>\n",
       "      <th>197</th>\n",
       "      <td>29.0</td>\n",
       "      <td>4</td>\n",
       "      <td>90</td>\n",
       "      <td>70</td>\n",
       "      <td>1937</td>\n",
       "      <td>14.2</td>\n",
       "      <td>76</td>\n",
       "      <td>2</td>\n",
       "      <td>vw rabbit</td>\n",
       "      <td>NaN</td>\n",
       "      <td>NaN</td>\n",
       "      <td>NaN</td>\n",
       "      <td>NaN</td>\n",
       "      <td>NaN</td>\n",
       "    </tr>\n",
       "  </tbody>\n",
       "</table>\n",
       "<p>198 rows × 14 columns</p>\n",
       "</div>"
      ],
      "text/plain": [
       "      mpg  cylinders  displacement horsepower  weight  acceleration  model  \\\n",
       "0    18.0          8           307        130    3504          12.0     70   \n",
       "1    15.0          8           350        165    3693          11.5     70   \n",
       "2    18.0          8           318        150    3436          11.0     70   \n",
       "3    16.0          8           304        150    3433          12.0     70   \n",
       "4    17.0          8           302        140    3449          10.5     70   \n",
       "..    ...        ...           ...        ...     ...           ...    ...   \n",
       "193  24.0          6           200         81    3012          17.6     76   \n",
       "194  22.5          6           232         90    3085          17.6     76   \n",
       "195  29.0          4            85         52    2035          22.2     76   \n",
       "196  24.5          4            98         60    2164          22.1     76   \n",
       "197  29.0          4            90         70    1937          14.2     76   \n",
       "\n",
       "     origin                        car  Unnamed: 9  Unnamed: 10  Unnamed: 11  \\\n",
       "0         1  chevrolet chevelle malibu         NaN          NaN          NaN   \n",
       "1         1          buick skylark 320         NaN          NaN          NaN   \n",
       "2         1         plymouth satellite         NaN          NaN          NaN   \n",
       "3         1              amc rebel sst         NaN          NaN          NaN   \n",
       "4         1                ford torino         NaN          NaN          NaN   \n",
       "..      ...                        ...         ...          ...          ...   \n",
       "193       1              ford maverick         NaN          NaN          NaN   \n",
       "194       1                 amc hornet         NaN          NaN          NaN   \n",
       "195       1         chevrolet chevette         NaN          NaN          NaN   \n",
       "196       1            chevrolet woody         NaN          NaN          NaN   \n",
       "197       2                  vw rabbit         NaN          NaN          NaN   \n",
       "\n",
       "     Unnamed: 12  Unnamed: 13  \n",
       "0            NaN          NaN  \n",
       "1            NaN          NaN  \n",
       "2            NaN          NaN  \n",
       "3            NaN          NaN  \n",
       "4            NaN          NaN  \n",
       "..           ...          ...  \n",
       "193          NaN          NaN  \n",
       "194          NaN          NaN  \n",
       "195          NaN          NaN  \n",
       "196          NaN          NaN  \n",
       "197          NaN          NaN  \n",
       "\n",
       "[198 rows x 14 columns]"
      ]
     },
     "execution_count": 84,
     "metadata": {},
     "output_type": "execute_result"
    }
   ],
   "source": [
    "df"
   ]
  },
  {
   "cell_type": "code",
   "execution_count": 86,
   "id": "1903b870-9a0d-4bf5-8d49-8c14e88b893f",
   "metadata": {},
   "outputs": [
    {
     "data": {
      "text/plain": [
       "mpg               0\n",
       "cylinders         0\n",
       "displacement      0\n",
       "horsepower        0\n",
       "weight            0\n",
       "acceleration      0\n",
       "model             0\n",
       "origin            0\n",
       "car               0\n",
       "Unnamed: 9      198\n",
       "Unnamed: 10     198\n",
       "Unnamed: 11     198\n",
       "Unnamed: 12     198\n",
       "Unnamed: 13     198\n",
       "dtype: int64"
      ]
     },
     "execution_count": 86,
     "metadata": {},
     "output_type": "execute_result"
    }
   ],
   "source": [
    "df.isnull().sum()"
   ]
  },
  {
   "cell_type": "code",
   "execution_count": 88,
   "id": "4e872588-e795-4dbf-abdd-17c56a12c65e",
   "metadata": {},
   "outputs": [
    {
     "name": "stdout",
     "output_type": "stream",
     "text": [
      "      mpg  cylinders  displacement horsepower  weight  acceleration  model  \\\n",
      "0    18.0          8           307        130    3504          12.0     70   \n",
      "1    15.0          8           350        165    3693          11.5     70   \n",
      "2    18.0          8           318        150    3436          11.0     70   \n",
      "3    16.0          8           304        150    3433          12.0     70   \n",
      "4    17.0          8           302        140    3449          10.5     70   \n",
      "..    ...        ...           ...        ...     ...           ...    ...   \n",
      "193  24.0          6           200         81    3012          17.6     76   \n",
      "194  22.5          6           232         90    3085          17.6     76   \n",
      "195  29.0          4            85         52    2035          22.2     76   \n",
      "196  24.5          4            98         60    2164          22.1     76   \n",
      "197  29.0          4            90         70    1937          14.2     76   \n",
      "\n",
      "     origin                        car  Unnamed: 9  Unnamed: 10  Unnamed: 11  \\\n",
      "0         1  chevrolet chevelle malibu         0.0          0.0          0.0   \n",
      "1         1          buick skylark 320         0.0          0.0          0.0   \n",
      "2         1         plymouth satellite         0.0          0.0          0.0   \n",
      "3         1              amc rebel sst         0.0          0.0          0.0   \n",
      "4         1                ford torino         0.0          0.0          0.0   \n",
      "..      ...                        ...         ...          ...          ...   \n",
      "193       1              ford maverick         0.0          0.0          0.0   \n",
      "194       1                 amc hornet         0.0          0.0          0.0   \n",
      "195       1         chevrolet chevette         0.0          0.0          0.0   \n",
      "196       1            chevrolet woody         0.0          0.0          0.0   \n",
      "197       2                  vw rabbit         0.0          0.0          0.0   \n",
      "\n",
      "     Unnamed: 12  Unnamed: 13  \n",
      "0            0.0          0.0  \n",
      "1            0.0          0.0  \n",
      "2            0.0          0.0  \n",
      "3            0.0          0.0  \n",
      "4            0.0          0.0  \n",
      "..           ...          ...  \n",
      "193          0.0          0.0  \n",
      "194          0.0          0.0  \n",
      "195          0.0          0.0  \n",
      "196          0.0          0.0  \n",
      "197          0.0          0.0  \n",
      "\n",
      "[198 rows x 14 columns]\n"
     ]
    }
   ],
   "source": [
    "df.fillna(0,inplace=True)\n",
    "print(df)"
   ]
  },
  {
   "cell_type": "code",
   "execution_count": null,
   "id": "4c25d877-3379-4830-a821-29e56cc81994",
   "metadata": {},
   "outputs": [],
   "source": [
    "df"
   ]
  }
 ],
 "metadata": {
  "kernelspec": {
   "display_name": "Python 3 (ipykernel)",
   "language": "python",
   "name": "python3"
  },
  "language_info": {
   "codemirror_mode": {
    "name": "ipython",
    "version": 3
   },
   "file_extension": ".py",
   "mimetype": "text/x-python",
   "name": "python",
   "nbconvert_exporter": "python",
   "pygments_lexer": "ipython3",
   "version": "3.13.5"
  }
 },
 "nbformat": 4,
 "nbformat_minor": 5
}
